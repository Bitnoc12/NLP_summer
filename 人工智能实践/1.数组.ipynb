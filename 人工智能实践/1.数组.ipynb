{
 "cells": [
  {
   "cell_type": "code",
   "execution_count": 1,
   "id": "da69263b",
   "metadata": {},
   "outputs": [],
   "source": [
    "import numpy as np"
   ]
  },
  {
   "cell_type": "code",
   "execution_count": 2,
   "id": "23d0ecbf",
   "metadata": {},
   "outputs": [
    {
     "data": {
      "text/plain": [
       "array([ 1,  2,  3,  4,  5,  6,  7,  8,  9, 10, 11, 12, 13, 14, 15, 16, 17,\n",
       "       18, 19])"
      ]
     },
     "execution_count": 2,
     "metadata": {},
     "output_type": "execute_result"
    }
   ],
   "source": [
    "MyArray1=np.arange(1,20)\n",
    "MyArray1"
   ]
  },
  {
   "cell_type": "code",
   "execution_count": 3,
   "id": "67ec4faf",
   "metadata": {},
   "outputs": [
    {
     "data": {
      "text/plain": [
       "range(1, 10, 2)"
      ]
     },
     "execution_count": 3,
     "metadata": {},
     "output_type": "execute_result"
    }
   ],
   "source": [
    "range(1,10,2)"
   ]
  },
  {
   "cell_type": "code",
   "execution_count": 4,
   "id": "be3f4ea4",
   "metadata": {},
   "outputs": [
    {
     "data": {
      "text/plain": [
       "[1, 3, 5, 7, 9]"
      ]
     },
     "execution_count": 4,
     "metadata": {},
     "output_type": "execute_result"
    }
   ],
   "source": [
    "list(range(1,10,2))"
   ]
  },
  {
   "cell_type": "code",
   "execution_count": 5,
   "id": "a85081e9",
   "metadata": {},
   "outputs": [
    {
     "data": {
      "text/plain": [
       "[1, 3, 5, 7, 9]"
      ]
     },
     "execution_count": 5,
     "metadata": {},
     "output_type": "execute_result"
    }
   ],
   "source": [
    "list(range(1,11,2))"
   ]
  },
  {
   "cell_type": "code",
   "execution_count": 6,
   "id": "302ff093",
   "metadata": {},
   "outputs": [
    {
     "data": {
      "text/plain": [
       "[1, 3, 5, 7, 9, 11]"
      ]
     },
     "execution_count": 6,
     "metadata": {},
     "output_type": "execute_result"
    }
   ],
   "source": [
    "list(range(1,12,2))"
   ]
  },
  {
   "cell_type": "code",
   "execution_count": 7,
   "id": "8121817d",
   "metadata": {},
   "outputs": [
    {
     "data": {
      "text/plain": [
       "array([1, 3, 5, 7, 9])"
      ]
     },
     "execution_count": 7,
     "metadata": {},
     "output_type": "execute_result"
    }
   ],
   "source": [
    "np.arange(1,10,2)"
   ]
  },
  {
   "cell_type": "code",
   "execution_count": 8,
   "id": "da74ec31",
   "metadata": {},
   "outputs": [
    {
     "data": {
      "text/plain": [
       "array([1, 2, 3, 4, 3, 5])"
      ]
     },
     "execution_count": 8,
     "metadata": {},
     "output_type": "execute_result"
    }
   ],
   "source": [
    "MyArray2=np.array([1,2,3,4,3,5])\n",
    "MyArray2"
   ]
  },
  {
   "cell_type": "code",
   "execution_count": 9,
   "id": "f71253d1",
   "metadata": {},
   "outputs": [
    {
     "data": {
      "text/plain": [
       "array([1, 3, 5, 7, 9])"
      ]
     },
     "execution_count": 9,
     "metadata": {},
     "output_type": "execute_result"
    }
   ],
   "source": [
    "np.array(range(1,10,2))"
   ]
  },
  {
   "cell_type": "code",
   "execution_count": 10,
   "id": "b22ab60a",
   "metadata": {},
   "outputs": [
    {
     "data": {
      "text/plain": [
       "array([[0., 0., 0., 0., 0.],\n",
       "       [0., 0., 0., 0., 0.],\n",
       "       [0., 0., 0., 0., 0.],\n",
       "       [0., 0., 0., 0., 0.],\n",
       "       [0., 0., 0., 0., 0.]])"
      ]
     },
     "execution_count": 10,
     "metadata": {},
     "output_type": "execute_result"
    }
   ],
   "source": [
    "MyArray3=np.zeros((5,5))\n",
    "MyArray3"
   ]
  },
  {
   "cell_type": "code",
   "execution_count": 11,
   "id": "9fc5583c",
   "metadata": {},
   "outputs": [
    {
     "data": {
      "text/plain": [
       "array([[1., 1., 1., 1., 1.],\n",
       "       [1., 1., 1., 1., 1.],\n",
       "       [1., 1., 1., 1., 1.],\n",
       "       [1., 1., 1., 1., 1.],\n",
       "       [1., 1., 1., 1., 1.]])"
      ]
     },
     "execution_count": 11,
     "metadata": {},
     "output_type": "execute_result"
    }
   ],
   "source": [
    "MyArray4=np.ones((5,5))\n",
    "MyArray4"
   ]
  },
  {
   "cell_type": "code",
   "execution_count": 12,
   "id": "7201a268",
   "metadata": {},
   "outputs": [
    {
     "data": {
      "text/plain": [
       "array([[2, 2, 2, 2, 2],\n",
       "       [2, 2, 2, 2, 2],\n",
       "       [2, 2, 2, 2, 2]])"
      ]
     },
     "execution_count": 12,
     "metadata": {},
     "output_type": "execute_result"
    }
   ],
   "source": [
    "np.full((3,5),2)"
   ]
  },
  {
   "cell_type": "code",
   "execution_count": 13,
   "id": "6db8f0fc",
   "metadata": {},
   "outputs": [
    {
     "data": {
      "text/plain": [
       "array([[37, 37, 45, 45, 12],\n",
       "       [23,  2, 53, 17, 46],\n",
       "       [ 3, 41,  7, 65, 49]])"
      ]
     },
     "execution_count": 13,
     "metadata": {},
     "output_type": "execute_result"
    }
   ],
   "source": [
    "rand=np.random.RandomState(30)\n",
    "MyArray5=rand.randint(0,100,[3,5])\n",
    "MyArray5"
   ]
  },
  {
   "cell_type": "code",
   "execution_count": 14,
   "id": "379c16cc",
   "metadata": {},
   "outputs": [
    {
     "data": {
      "text/plain": [
       "array([[45, 61, 35, 18, 18],\n",
       "       [76, 16,  6, 62, 27],\n",
       "       [46, 45, 64, 62, 11]])"
      ]
     },
     "execution_count": 14,
     "metadata": {},
     "output_type": "execute_result"
    }
   ],
   "source": [
    "MyArray5=rand.randint(0,100,[3,5])\n",
    "MyArray5"
   ]
  },
  {
   "cell_type": "code",
   "execution_count": 15,
   "id": "b1646fd0",
   "metadata": {},
   "outputs": [
    {
     "data": {
      "text/plain": [
       "array([[37, 37, 45, 45, 12],\n",
       "       [23,  2, 53, 17, 46],\n",
       "       [ 3, 41,  7, 65, 49]])"
      ]
     },
     "execution_count": 15,
     "metadata": {},
     "output_type": "execute_result"
    }
   ],
   "source": [
    "rand=np.random.RandomState(30)\n",
    "MyArray5=rand.randint(0,100,[3,5])\n",
    "MyArray5"
   ]
  },
  {
   "cell_type": "code",
   "execution_count": 16,
   "id": "fa5e2060",
   "metadata": {},
   "outputs": [],
   "source": [
    "#36.2主要特征"
   ]
  },
  {
   "cell_type": "code",
   "execution_count": 17,
   "id": "ed0588c9",
   "metadata": {},
   "outputs": [
    {
     "name": "stderr",
     "output_type": "stream",
     "text": [
      "C:\\Users\\ALVINA~1\\AppData\\Local\\Temp/ipykernel_38372/866771542.py:1: DeprecationWarning: `np.int` is a deprecated alias for the builtin `int`. To silence this warning, use `int` by itself. Doing this will not modify any behavior and is safe. When replacing `np.int`, you may wish to use e.g. `np.int64` or `np.int32` to specify the precision. If you wish to review your current use, check the release note link for additional information.\n",
      "Deprecated in NumPy 1.20; for more details and guidance: https://numpy.org/devdocs/release/1.20.0-notes.html#deprecations\n",
      "  MyArray4=np.zeros(shape=(2,15),dtype=np.int)\n"
     ]
    },
    {
     "data": {
      "text/plain": [
       "array([[0, 0, 0, 0, 0, 0, 0, 0, 0, 0, 0, 0, 0, 0, 0],\n",
       "       [0, 0, 0, 0, 0, 0, 0, 0, 0, 0, 0, 0, 0, 0, 0]])"
      ]
     },
     "execution_count": 17,
     "metadata": {},
     "output_type": "execute_result"
    }
   ],
   "source": [
    "MyArray4=np.zeros(shape=(2,15),dtype=np.int)\n",
    "MyArray4"
   ]
  },
  {
   "cell_type": "code",
   "execution_count": 18,
   "id": "dffc2470",
   "metadata": {},
   "outputs": [
    {
     "name": "stderr",
     "output_type": "stream",
     "text": [
      "C:\\Users\\ALVINA~1\\AppData\\Local\\Temp/ipykernel_38372/3057969093.py:2: DeprecationWarning: `np.int` is a deprecated alias for the builtin `int`. To silence this warning, use `int` by itself. Doing this will not modify any behavior and is safe. When replacing `np.int`, you may wish to use e.g. `np.int64` or `np.int32` to specify the precision. If you wish to review your current use, check the release note link for additional information.\n",
      "Deprecated in NumPy 1.20; for more details and guidance: https://numpy.org/devdocs/release/1.20.0-notes.html#deprecations\n",
      "  MyArray4=np.zeros(shape=(2,15),dtype=np.int)\n"
     ]
    },
    {
     "data": {
      "text/plain": [
       "array([[0, 0, 0, 0, 0, 0, 0, 0, 0, 0, 0, 0, 0, 0, 0],\n",
       "       [0, 0, 0, 0, 0, 0, 0, 0, 0, 0, 0, 0, 0, 0, 0]])"
      ]
     },
     "execution_count": 18,
     "metadata": {},
     "output_type": "execute_result"
    }
   ],
   "source": [
    "import numpy as np\n",
    "MyArray4=np.zeros(shape=(2,15),dtype=np.int)\n",
    "MyArray4"
   ]
  },
  {
   "cell_type": "code",
   "execution_count": 19,
   "id": "16284bf4",
   "metadata": {},
   "outputs": [
    {
     "data": {
      "text/plain": [
       "array([[1., 1., 1., 1., 1.],\n",
       "       [1., 1., 1., 1., 1.],\n",
       "       [1., 1., 1., 1., 1.]])"
      ]
     },
     "execution_count": 19,
     "metadata": {},
     "output_type": "execute_result"
    }
   ],
   "source": [
    "np.ones((3,5),dtype=float)"
   ]
  },
  {
   "cell_type": "code",
   "execution_count": 20,
   "id": "539464e3",
   "metadata": {},
   "outputs": [
    {
     "data": {
      "text/plain": [
       "array([[1., 1., 1., 1., 1.],\n",
       "       [1., 1., 1., 1., 1.],\n",
       "       [1., 1., 1., 1., 1.]])"
      ]
     },
     "execution_count": 20,
     "metadata": {},
     "output_type": "execute_result"
    }
   ],
   "source": [
    "np.ones([3,5],dtype=float)"
   ]
  },
  {
   "cell_type": "code",
   "execution_count": 21,
   "id": "09b5b5e0",
   "metadata": {},
   "outputs": [],
   "source": [
    "#36.3切片与读取"
   ]
  },
  {
   "cell_type": "code",
   "execution_count": 22,
   "id": "2de135c4",
   "metadata": {},
   "outputs": [
    {
     "data": {
      "text/plain": [
       "array([1, 2, 3, 4, 5, 6, 7, 8, 9])"
      ]
     },
     "execution_count": 22,
     "metadata": {},
     "output_type": "execute_result"
    }
   ],
   "source": [
    "import numpy as np\n",
    "myArray=np.array(range(1,10))\n",
    "myArray"
   ]
  },
  {
   "cell_type": "code",
   "execution_count": 23,
   "id": "90938536",
   "metadata": {},
   "outputs": [],
   "source": [
    "myArray=np.arange(1,10)"
   ]
  },
  {
   "cell_type": "code",
   "execution_count": 24,
   "id": "d79c72b0",
   "metadata": {},
   "outputs": [
    {
     "data": {
      "text/plain": [
       "array([1, 2, 3, 4, 5, 6, 7, 8, 9])"
      ]
     },
     "execution_count": 24,
     "metadata": {},
     "output_type": "execute_result"
    }
   ],
   "source": [
    "myArray"
   ]
  },
  {
   "cell_type": "code",
   "execution_count": 25,
   "id": "f6a9bcdf",
   "metadata": {},
   "outputs": [
    {
     "data": {
      "text/plain": [
       "1"
      ]
     },
     "execution_count": 25,
     "metadata": {},
     "output_type": "execute_result"
    }
   ],
   "source": [
    "myArray[0]"
   ]
  },
  {
   "cell_type": "code",
   "execution_count": 26,
   "id": "1278e47d",
   "metadata": {},
   "outputs": [
    {
     "data": {
      "text/plain": [
       "9"
      ]
     },
     "execution_count": 26,
     "metadata": {},
     "output_type": "execute_result"
    }
   ],
   "source": [
    "myArray[-1]"
   ]
  },
  {
   "cell_type": "code",
   "execution_count": 27,
   "id": "815d4ae0",
   "metadata": {},
   "outputs": [
    {
     "name": "stdout",
     "output_type": "stream",
     "text": [
      "myArray= [0 1 2 3 4 5 6 7 8 9]\n",
      "myArray[1:9:2]= [1 3 5 7]\n",
      "myArray[:9:2]= [0 2 4 6 8]\n",
      "myArray[::2]= [0 2 4 6 8]\n",
      "myArray[::]= [0 1 2 3 4 5 6 7 8 9]\n",
      "myArray[:8:]= [0 1 2 3 4 5 6 7]\n",
      "myArray[:8]= [0 1 2 3 4 5 6 7]\n",
      "myArray[4::]= [4 5 6 7 8 9]\n",
      "myArray[9:1:-2]= [9 7 5 3]\n",
      "myArray[::-2] [9 7 5 3 1]\n",
      "myArray[[2,5,6]]= [2 5 6]\n",
      "myArray[myArray>5]= [6 7 8 9]\n"
     ]
    }
   ],
   "source": [
    "import numpy as np\n",
    "myArray=np.array(range(0,10))\n",
    "print(\"myArray=\",myArray)\n",
    "print(\"myArray[1:9:2]=\",myArray[1:9:2])\n",
    "print(\"myArray[:9:2]=\",myArray[:9:2])\n",
    "\n",
    "print(\"myArray[::2]=\",myArray[::2])\n",
    "print(\"myArray[::]=\",myArray[::])\n",
    "print(\"myArray[:8:]=\",myArray[:8:])\n",
    "print(\"myArray[:8]=\",myArray[0:8])\n",
    "print(\"myArray[4::]=\",myArray[4::])\n",
    "print(\"myArray[9:1:-2]=\",myArray[9:1:-2])\n",
    "print(\"myArray[::-2]\",myArray[::-2])\n",
    "print(\"myArray[[2,5,6]]=\",myArray[[2,5,6]])\n",
    "print(\"myArray[myArray>5]=\",myArray[myArray>5])"
   ]
  },
  {
   "cell_type": "code",
   "execution_count": 28,
   "id": "bcee11d0",
   "metadata": {},
   "outputs": [
    {
     "data": {
      "text/plain": [
       "array([0, 1])"
      ]
     },
     "execution_count": 28,
     "metadata": {},
     "output_type": "execute_result"
    }
   ],
   "source": [
    "myArray[0:2]"
   ]
  },
  {
   "cell_type": "code",
   "execution_count": 29,
   "id": "a7677347",
   "metadata": {},
   "outputs": [
    {
     "data": {
      "text/plain": [
       "array([1, 3])"
      ]
     },
     "execution_count": 29,
     "metadata": {},
     "output_type": "execute_result"
    }
   ],
   "source": [
    "myArray[1:5:2]"
   ]
  },
  {
   "cell_type": "code",
   "execution_count": 30,
   "id": "9e7c882d",
   "metadata": {},
   "outputs": [
    {
     "data": {
      "text/plain": [
       "array([0, 2, 4, 6, 8])"
      ]
     },
     "execution_count": 30,
     "metadata": {},
     "output_type": "execute_result"
    }
   ],
   "source": [
    "myArray[::2]"
   ]
  },
  {
   "cell_type": "code",
   "execution_count": 31,
   "id": "34437b1d",
   "metadata": {},
   "outputs": [
    {
     "data": {
      "text/plain": [
       "array([9, 7, 5, 3, 1])"
      ]
     },
     "execution_count": 31,
     "metadata": {},
     "output_type": "execute_result"
    }
   ],
   "source": [
    "myArray[::-2]"
   ]
  },
  {
   "cell_type": "code",
   "execution_count": 32,
   "id": "2f53a064",
   "metadata": {},
   "outputs": [
    {
     "data": {
      "text/plain": [
       "array([0, 1, 2, 3, 4, 5, 6, 7, 8, 9])"
      ]
     },
     "execution_count": 32,
     "metadata": {},
     "output_type": "execute_result"
    }
   ],
   "source": [
    "myArray"
   ]
  },
  {
   "cell_type": "code",
   "execution_count": 33,
   "id": "f3672e2c",
   "metadata": {},
   "outputs": [
    {
     "data": {
      "text/plain": [
       "array([ 1,  2,  3,  4,  5,  6,  7,  8,  9, 10])"
      ]
     },
     "execution_count": 33,
     "metadata": {},
     "output_type": "execute_result"
    }
   ],
   "source": [
    "myArray=np.array(range(1,11))\n",
    "myArray"
   ]
  },
  {
   "cell_type": "code",
   "execution_count": 34,
   "id": "d22d60a6",
   "metadata": {},
   "outputs": [
    {
     "ename": "IndexError",
     "evalue": "too many indices for array: array is 1-dimensional, but 3 were indexed",
     "output_type": "error",
     "traceback": [
      "\u001b[1;31m---------------------------------------------------------------------------\u001b[0m",
      "\u001b[1;31mIndexError\u001b[0m                                Traceback (most recent call last)",
      "\u001b[1;32mC:\\Users\\ALVINA~1\\AppData\\Local\\Temp/ipykernel_38372/3486965170.py\u001b[0m in \u001b[0;36m<module>\u001b[1;34m\u001b[0m\n\u001b[1;32m----> 1\u001b[1;33m \u001b[0mmyArray\u001b[0m\u001b[1;33m[\u001b[0m\u001b[1;36m1\u001b[0m\u001b[1;33m,\u001b[0m\u001b[1;36m3\u001b[0m\u001b[1;33m,\u001b[0m\u001b[1;36m6\u001b[0m\u001b[1;33m]\u001b[0m\u001b[1;33m\u001b[0m\u001b[1;33m\u001b[0m\u001b[0m\n\u001b[0m",
      "\u001b[1;31mIndexError\u001b[0m: too many indices for array: array is 1-dimensional, but 3 were indexed"
     ]
    }
   ],
   "source": [
    "myArray[1,3,6]"
   ]
  },
  {
   "cell_type": "code",
   "execution_count": 35,
   "id": "83eb1cb5",
   "metadata": {},
   "outputs": [
    {
     "data": {
      "text/plain": [
       "array([2, 4, 7])"
      ]
     },
     "execution_count": 35,
     "metadata": {},
     "output_type": "execute_result"
    }
   ],
   "source": [
    "myArray[[1,3,6]]"
   ]
  },
  {
   "cell_type": "code",
   "execution_count": 36,
   "id": "b7266be2",
   "metadata": {},
   "outputs": [
    {
     "data": {
      "text/plain": [
       "array([ 1,  2,  3,  4,  5,  6,  7,  8,  9, 10])"
      ]
     },
     "execution_count": 36,
     "metadata": {},
     "output_type": "execute_result"
    }
   ],
   "source": [
    "myArray"
   ]
  },
  {
   "cell_type": "code",
   "execution_count": 38,
   "id": "b6d7fae4",
   "metadata": {},
   "outputs": [
    {
     "data": {
      "text/plain": [
       "array([[ 1],\n",
       "       [ 2],\n",
       "       [ 3],\n",
       "       [ 4],\n",
       "       [ 5],\n",
       "       [ 6],\n",
       "       [ 7],\n",
       "       [ 8],\n",
       "       [ 9],\n",
       "       [10]])"
      ]
     },
     "execution_count": 38,
     "metadata": {},
     "output_type": "execute_result"
    }
   ],
   "source": [
    "myArray[:,np.newaxis]"
   ]
  },
  {
   "cell_type": "code",
   "execution_count": 39,
   "id": "79d12a14",
   "metadata": {},
   "outputs": [
    {
     "data": {
      "text/plain": [
       "(10, 1)"
      ]
     },
     "execution_count": 39,
     "metadata": {},
     "output_type": "execute_result"
    }
   ],
   "source": [
    "myArray[:,np.newaxis].shape"
   ]
  },
  {
   "cell_type": "code",
   "execution_count": 40,
   "id": "71bf0a48",
   "metadata": {},
   "outputs": [
    {
     "data": {
      "text/plain": [
       "array([[ 1,  2,  3,  4],\n",
       "       [ 5,  6,  7,  8],\n",
       "       [ 9, 10, 11, 12],\n",
       "       [13, 14, 15, 16],\n",
       "       [17, 18, 19, 20]])"
      ]
     },
     "execution_count": 40,
     "metadata": {},
     "output_type": "execute_result"
    }
   ],
   "source": [
    "myArray2=np.arange(1,21).reshape([5,4])\n",
    "myArray2"
   ]
  },
  {
   "cell_type": "code",
   "execution_count": 41,
   "id": "e4799132",
   "metadata": {},
   "outputs": [
    {
     "data": {
      "text/plain": [
       "array([12, 20])"
      ]
     },
     "execution_count": 41,
     "metadata": {},
     "output_type": "execute_result"
    }
   ],
   "source": [
    "myArray2[[2,4],3]"
   ]
  },
  {
   "cell_type": "code",
   "execution_count": 43,
   "id": "c19ea896",
   "metadata": {},
   "outputs": [
    {
     "data": {
      "text/plain": [
       "array([12, 20])"
      ]
     },
     "execution_count": 43,
     "metadata": {},
     "output_type": "execute_result"
    }
   ],
   "source": [
    "x=[2,4]\n",
    "myArray2[x,3]"
   ]
  },
  {
   "cell_type": "code",
   "execution_count": 44,
   "id": "9e9cd94b",
   "metadata": {},
   "outputs": [],
   "source": [
    "#3.64浅拷贝与深拷贝"
   ]
  },
  {
   "cell_type": "code",
   "execution_count": 45,
   "id": "8e96aead",
   "metadata": {},
   "outputs": [
    {
     "data": {
      "text/plain": [
       "array([  0, 100,   2,   3,   4,   5,   6,   7,   8,   9])"
      ]
     },
     "execution_count": 45,
     "metadata": {},
     "output_type": "execute_result"
    }
   ],
   "source": [
    "import numpy as np\n",
    "myArray1=np.array(range(0,10))\n",
    "myArray2=myArray1\n",
    "myArray2[1]=100\n",
    "myArray1"
   ]
  },
  {
   "cell_type": "code",
   "execution_count": 46,
   "id": "963a958c",
   "metadata": {},
   "outputs": [
    {
     "data": {
      "text/plain": [
       "array([0, 1, 2, 3, 4, 5, 6, 7, 8, 9])"
      ]
     },
     "execution_count": 46,
     "metadata": {},
     "output_type": "execute_result"
    }
   ],
   "source": [
    "import numpy as np\n",
    "myArray1=np.array(range(0,10))\n",
    "myArray2=myArray1.copy()\n",
    "myArray2[1]=100\n",
    "myArray1"
   ]
  },
  {
   "cell_type": "code",
   "execution_count": 47,
   "id": "923ee005",
   "metadata": {},
   "outputs": [],
   "source": [
    "#36.5形状与重构"
   ]
  },
  {
   "cell_type": "code",
   "execution_count": 48,
   "id": "770eb955",
   "metadata": {},
   "outputs": [
    {
     "data": {
      "text/plain": [
       "array([ 1,  2,  3,  4,  5,  6,  7,  8,  9, 10, 11, 12, 13, 14, 15, 16, 17,\n",
       "       18, 19, 20])"
      ]
     },
     "execution_count": 48,
     "metadata": {},
     "output_type": "execute_result"
    }
   ],
   "source": [
    "import numpy as np\n",
    "MyArray5=np.arange(1,21)\n",
    "MyArray5"
   ]
  },
  {
   "cell_type": "code",
   "execution_count": 50,
   "id": "21045908",
   "metadata": {},
   "outputs": [
    {
     "data": {
      "text/plain": [
       "(20,)"
      ]
     },
     "execution_count": 50,
     "metadata": {},
     "output_type": "execute_result"
    }
   ],
   "source": [
    "MyArray5.shape"
   ]
  },
  {
   "cell_type": "code",
   "execution_count": 51,
   "id": "de8e4652",
   "metadata": {},
   "outputs": [
    {
     "data": {
      "text/plain": [
       "array([[ 1,  2,  3,  4,  5],\n",
       "       [ 6,  7,  8,  9, 10],\n",
       "       [11, 12, 13, 14, 15],\n",
       "       [16, 17, 18, 19, 20]])"
      ]
     },
     "execution_count": 51,
     "metadata": {},
     "output_type": "execute_result"
    }
   ],
   "source": [
    "MyArray6=MyArray5.reshape(4,5)\n",
    "MyArray6"
   ]
  },
  {
   "cell_type": "code",
   "execution_count": 52,
   "id": "28a3d3ed",
   "metadata": {},
   "outputs": [
    {
     "data": {
      "text/plain": [
       "array([ 1,  2,  3,  4,  5,  6,  7,  8,  9, 10, 11, 12, 13, 14, 15, 16, 17,\n",
       "       18, 19, 20])"
      ]
     },
     "execution_count": 52,
     "metadata": {},
     "output_type": "execute_result"
    }
   ],
   "source": [
    "MyArray5"
   ]
  },
  {
   "cell_type": "code",
   "execution_count": 53,
   "id": "97c04bb1",
   "metadata": {},
   "outputs": [
    {
     "data": {
      "text/plain": [
       "array([[ 1,  2,  3,  4],\n",
       "       [ 5,  6,  7,  8],\n",
       "       [ 9, 10, 11, 12],\n",
       "       [13, 14, 15, 16],\n",
       "       [17, 18, 19, 20]])"
      ]
     },
     "execution_count": 53,
     "metadata": {},
     "output_type": "execute_result"
    }
   ],
   "source": [
    "MyArray5.reshape(5,4)"
   ]
  },
  {
   "cell_type": "code",
   "execution_count": 54,
   "id": "d32f50aa",
   "metadata": {},
   "outputs": [
    {
     "ename": "ValueError",
     "evalue": "cannot reshape array of size 20 into shape (5,5)",
     "output_type": "error",
     "traceback": [
      "\u001b[1;31m---------------------------------------------------------------------------\u001b[0m",
      "\u001b[1;31mValueError\u001b[0m                                Traceback (most recent call last)",
      "\u001b[1;32mC:\\Users\\ALVINA~1\\AppData\\Local\\Temp/ipykernel_38372/1049434342.py\u001b[0m in \u001b[0;36m<module>\u001b[1;34m\u001b[0m\n\u001b[1;32m----> 1\u001b[1;33m \u001b[0mMyArray5\u001b[0m\u001b[1;33m.\u001b[0m\u001b[0mreshape\u001b[0m\u001b[1;33m(\u001b[0m\u001b[1;36m5\u001b[0m\u001b[1;33m,\u001b[0m\u001b[1;36m5\u001b[0m\u001b[1;33m)\u001b[0m\u001b[1;33m\u001b[0m\u001b[1;33m\u001b[0m\u001b[0m\n\u001b[0m",
      "\u001b[1;31mValueError\u001b[0m: cannot reshape array of size 20 into shape (5,5)"
     ]
    }
   ],
   "source": [
    "MyArray5.reshape(5,5)"
   ]
  },
  {
   "cell_type": "code",
   "execution_count": 55,
   "id": "f7b541e0",
   "metadata": {},
   "outputs": [
    {
     "data": {
      "text/plain": [
       "array([ 1,  2,  3,  4,  5,  6,  7,  8,  9, 10, 11, 12, 13, 14, 15, 16, 17,\n",
       "       18, 19, 20])"
      ]
     },
     "execution_count": 55,
     "metadata": {},
     "output_type": "execute_result"
    }
   ],
   "source": [
    "MyArray5"
   ]
  },
  {
   "cell_type": "code",
   "execution_count": 56,
   "id": "1331485c",
   "metadata": {},
   "outputs": [
    {
     "data": {
      "text/plain": [
       "array([[ 1,  2,  3,  4,  5],\n",
       "       [ 6,  7,  8,  9, 10],\n",
       "       [11, 12, 13, 14, 15],\n",
       "       [16, 17, 18, 19, 20]])"
      ]
     },
     "execution_count": 56,
     "metadata": {},
     "output_type": "execute_result"
    }
   ],
   "source": [
    "MyArray5.resize(4,5)\n",
    "MyArray5"
   ]
  },
  {
   "cell_type": "code",
   "execution_count": 57,
   "id": "57bbc8b5",
   "metadata": {},
   "outputs": [
    {
     "data": {
      "text/plain": [
       "array([[ 1,  6, 11, 16],\n",
       "       [ 2,  7, 12, 17],\n",
       "       [ 3,  8, 13, 18],\n",
       "       [ 4,  9, 14, 19],\n",
       "       [ 5, 10, 15, 20]])"
      ]
     },
     "execution_count": 57,
     "metadata": {},
     "output_type": "execute_result"
    }
   ],
   "source": [
    "MyArray5.swapaxes(0,1)"
   ]
  },
  {
   "cell_type": "code",
   "execution_count": 58,
   "id": "330ecde3",
   "metadata": {},
   "outputs": [
    {
     "data": {
      "text/plain": [
       "array([[ 1,  2,  3,  4,  5],\n",
       "       [ 6,  7,  8,  9, 10],\n",
       "       [11, 12, 13, 14, 15],\n",
       "       [16, 17, 18, 19, 20]])"
      ]
     },
     "execution_count": 58,
     "metadata": {},
     "output_type": "execute_result"
    }
   ],
   "source": [
    "MyArray5"
   ]
  },
  {
   "cell_type": "code",
   "execution_count": 59,
   "id": "a0138d65",
   "metadata": {},
   "outputs": [
    {
     "data": {
      "text/plain": [
       "array([[ 1,  6, 11, 16],\n",
       "       [ 2,  7, 12, 17],\n",
       "       [ 3,  8, 13, 18],\n",
       "       [ 4,  9, 14, 19],\n",
       "       [ 5, 10, 15, 20]])"
      ]
     },
     "execution_count": 59,
     "metadata": {},
     "output_type": "execute_result"
    }
   ],
   "source": [
    "MyArray5=MyArray5.swapaxes(0,1)\n",
    "MyArray5"
   ]
  },
  {
   "cell_type": "code",
   "execution_count": 60,
   "id": "8098ef56",
   "metadata": {},
   "outputs": [
    {
     "data": {
      "text/plain": [
       "array([ 1,  6, 11, 16,  2,  7, 12, 17,  3,  8, 13, 18,  4,  9, 14, 19,  5,\n",
       "       10, 15, 20])"
      ]
     },
     "execution_count": 60,
     "metadata": {},
     "output_type": "execute_result"
    }
   ],
   "source": [
    "MyArray5.flatten()"
   ]
  },
  {
   "cell_type": "code",
   "execution_count": 61,
   "id": "5ecd6e69",
   "metadata": {},
   "outputs": [
    {
     "data": {
      "text/plain": [
       "array([[ 1,  6, 11, 16],\n",
       "       [ 2,  7, 12, 17],\n",
       "       [ 3,  8, 13, 18],\n",
       "       [ 4,  9, 14, 19],\n",
       "       [ 5, 10, 15, 20]])"
      ]
     },
     "execution_count": 61,
     "metadata": {},
     "output_type": "execute_result"
    }
   ],
   "source": [
    "MyArray5"
   ]
  },
  {
   "cell_type": "code",
   "execution_count": 62,
   "id": "fddd00bd",
   "metadata": {},
   "outputs": [
    {
     "data": {
      "text/plain": [
       "[[1, 6, 11, 16],\n",
       " [2, 7, 12, 17],\n",
       " [3, 8, 13, 18],\n",
       " [4, 9, 14, 19],\n",
       " [5, 10, 15, 20]]"
      ]
     },
     "execution_count": 62,
     "metadata": {},
     "output_type": "execute_result"
    }
   ],
   "source": [
    "MyArray5.tolist()"
   ]
  },
  {
   "cell_type": "code",
   "execution_count": 63,
   "id": "d6e02bb4",
   "metadata": {},
   "outputs": [
    {
     "name": "stderr",
     "output_type": "stream",
     "text": [
      "C:\\Users\\ALVINA~1\\AppData\\Local\\Temp/ipykernel_38372/696771290.py:1: DeprecationWarning: `np.float` is a deprecated alias for the builtin `float`. To silence this warning, use `float` by itself. Doing this will not modify any behavior and is safe. If you specifically wanted the numpy scalar type, use `np.float64` here.\n",
      "Deprecated in NumPy 1.20; for more details and guidance: https://numpy.org/devdocs/release/1.20.0-notes.html#deprecations\n",
      "  MyArray5.astype(np.float)\n"
     ]
    },
    {
     "data": {
      "text/plain": [
       "array([[ 1.,  6., 11., 16.],\n",
       "       [ 2.,  7., 12., 17.],\n",
       "       [ 3.,  8., 13., 18.],\n",
       "       [ 4.,  9., 14., 19.],\n",
       "       [ 5., 10., 15., 20.]])"
      ]
     },
     "execution_count": 63,
     "metadata": {},
     "output_type": "execute_result"
    }
   ],
   "source": [
    "MyArray5.astype(np.float)"
   ]
  },
  {
   "cell_type": "code",
   "execution_count": 64,
   "id": "39ed0377",
   "metadata": {},
   "outputs": [
    {
     "data": {
      "text/plain": [
       "array([[ 1,  6, 11, 16],\n",
       "       [ 2,  7, 12, 17],\n",
       "       [ 3,  8, 13, 18],\n",
       "       [ 4,  9, 14, 19],\n",
       "       [ 5, 10, 15, 20]])"
      ]
     },
     "execution_count": 64,
     "metadata": {},
     "output_type": "execute_result"
    }
   ],
   "source": [
    "MyArray5"
   ]
  },
  {
   "cell_type": "code",
   "execution_count": 66,
   "id": "11bfa653",
   "metadata": {},
   "outputs": [],
   "source": [
    "#36.6属性计算"
   ]
  },
  {
   "cell_type": "code",
   "execution_count": 67,
   "id": "9108da6a",
   "metadata": {},
   "outputs": [
    {
     "ename": "AttributeError",
     "evalue": "module 'numpy' has no attribute 'rank'",
     "output_type": "error",
     "traceback": [
      "\u001b[1;31m---------------------------------------------------------------------------\u001b[0m",
      "\u001b[1;31mAttributeError\u001b[0m                            Traceback (most recent call last)",
      "\u001b[1;32mC:\\Users\\ALVINA~1\\AppData\\Local\\Temp/ipykernel_38372/4240392394.py\u001b[0m in \u001b[0;36m<module>\u001b[1;34m\u001b[0m\n\u001b[1;32m----> 1\u001b[1;33m \u001b[0mnp\u001b[0m\u001b[1;33m.\u001b[0m\u001b[0mrank\u001b[0m\u001b[1;33m(\u001b[0m\u001b[0mMyArray5\u001b[0m\u001b[1;33m)\u001b[0m\u001b[1;33m\u001b[0m\u001b[1;33m\u001b[0m\u001b[0m\n\u001b[0m",
      "\u001b[1;32mC:\\py\\anaconda\\lib\\site-packages\\numpy\\__init__.py\u001b[0m in \u001b[0;36m__getattr__\u001b[1;34m(attr)\u001b[0m\n\u001b[0;32m    313\u001b[0m             \u001b[1;32mreturn\u001b[0m \u001b[0mTester\u001b[0m\u001b[1;33m\u001b[0m\u001b[1;33m\u001b[0m\u001b[0m\n\u001b[0;32m    314\u001b[0m \u001b[1;33m\u001b[0m\u001b[0m\n\u001b[1;32m--> 315\u001b[1;33m         raise AttributeError(\"module {!r} has no attribute \"\n\u001b[0m\u001b[0;32m    316\u001b[0m                              \"{!r}\".format(__name__, attr))\n\u001b[0;32m    317\u001b[0m \u001b[1;33m\u001b[0m\u001b[0m\n",
      "\u001b[1;31mAttributeError\u001b[0m: module 'numpy' has no attribute 'rank'"
     ]
    }
   ],
   "source": [
    "np.rank(MyArray5)"
   ]
  },
  {
   "cell_type": "code",
   "execution_count": 68,
   "id": "577421e6",
   "metadata": {},
   "outputs": [
    {
     "data": {
      "text/plain": [
       "2"
      ]
     },
     "execution_count": 68,
     "metadata": {},
     "output_type": "execute_result"
    }
   ],
   "source": [
    "np.ndim(MyArray5)"
   ]
  },
  {
   "cell_type": "code",
   "execution_count": 69,
   "id": "8edd397d",
   "metadata": {},
   "outputs": [
    {
     "data": {
      "text/plain": [
       "2"
      ]
     },
     "execution_count": 69,
     "metadata": {},
     "output_type": "execute_result"
    }
   ],
   "source": [
    "MyArray5.ndim"
   ]
  },
  {
   "cell_type": "code",
   "execution_count": 70,
   "id": "c00d2f09",
   "metadata": {},
   "outputs": [
    {
     "data": {
      "text/plain": [
       "(5, 4)"
      ]
     },
     "execution_count": 70,
     "metadata": {},
     "output_type": "execute_result"
    }
   ],
   "source": [
    "np.shape(MyArray5)"
   ]
  },
  {
   "cell_type": "code",
   "execution_count": 71,
   "id": "760d2b8f",
   "metadata": {},
   "outputs": [
    {
     "data": {
      "text/plain": [
       "(5, 4)"
      ]
     },
     "execution_count": 71,
     "metadata": {},
     "output_type": "execute_result"
    }
   ],
   "source": [
    "MyArray5.shape"
   ]
  },
  {
   "cell_type": "code",
   "execution_count": 72,
   "id": "76d5c1f0",
   "metadata": {},
   "outputs": [
    {
     "data": {
      "text/plain": [
       "20"
      ]
     },
     "execution_count": 72,
     "metadata": {},
     "output_type": "execute_result"
    }
   ],
   "source": [
    "MyArray5.size"
   ]
  },
  {
   "cell_type": "code",
   "execution_count": 73,
   "id": "18f597be",
   "metadata": {},
   "outputs": [
    {
     "data": {
      "text/plain": [
       "numpy.ndarray"
      ]
     },
     "execution_count": 73,
     "metadata": {},
     "output_type": "execute_result"
    }
   ],
   "source": [
    "type(MyArray5)"
   ]
  },
  {
   "cell_type": "code",
   "execution_count": 74,
   "id": "70d3842a",
   "metadata": {},
   "outputs": [],
   "source": [
    "#36.6ndarray的计算"
   ]
  },
  {
   "cell_type": "code",
   "execution_count": 75,
   "id": "8e64c3e2",
   "metadata": {},
   "outputs": [
    {
     "data": {
      "text/plain": [
       "array([[ 10,  60, 110, 160],\n",
       "       [ 20,  70, 120, 170],\n",
       "       [ 30,  80, 130, 180],\n",
       "       [ 40,  90, 140, 190],\n",
       "       [ 50, 100, 150, 200]])"
      ]
     },
     "execution_count": 75,
     "metadata": {},
     "output_type": "execute_result"
    }
   ],
   "source": [
    "MyArray5*10"
   ]
  },
  {
   "cell_type": "code",
   "execution_count": 76,
   "id": "e68b6eb7",
   "metadata": {},
   "outputs": [
    {
     "name": "stdout",
     "output_type": "stream",
     "text": [
      "[11 12 13] [14 15] [16 17 18]\n"
     ]
    }
   ],
   "source": [
    "x=np.array([11,12,13,14,15,16,17,18])\n",
    "x1,x2,x3=np.split(x,[3,5])\n",
    "print(x1,x2,x3)"
   ]
  },
  {
   "cell_type": "code",
   "execution_count": 78,
   "id": "10680b1f",
   "metadata": {},
   "outputs": [
    {
     "name": "stdout",
     "output_type": "stream",
     "text": [
      "上半部分为\n",
      " [[ 1  6 11 16  2]\n",
      " [ 7 12 17  3  8]]\n",
      "\n",
      "\n",
      "下半部分为\n",
      " [[13 18  4  9 14]\n",
      " [19  5 10 15 20]]\n"
     ]
    }
   ],
   "source": [
    "upper,lower=np.vsplit(MyArray5.reshape(4,5),[2])\n",
    "print(\"上半部分为\\n\",upper)\n",
    "print(\"\\n\\n下半部分为\\n\",lower)\n"
   ]
  },
  {
   "cell_type": "code",
   "execution_count": 79,
   "id": "a319bcb8",
   "metadata": {},
   "outputs": [
    {
     "data": {
      "text/plain": [
       "array([[13, 18,  4,  9, 14],\n",
       "       [19,  5, 10, 15, 20],\n",
       "       [ 1,  6, 11, 16,  2],\n",
       "       [ 7, 12, 17,  3,  8]])"
      ]
     },
     "execution_count": 79,
     "metadata": {},
     "output_type": "execute_result"
    }
   ],
   "source": [
    "np.concatenate((lower,upper),axis=0)"
   ]
  },
  {
   "cell_type": "code",
   "execution_count": 80,
   "id": "ac8ec56b",
   "metadata": {},
   "outputs": [
    {
     "data": {
      "text/plain": [
       "array([[ 1,  6, 11, 16,  2],\n",
       "       [ 7, 12, 17,  3,  8],\n",
       "       [13, 18,  4,  9, 14],\n",
       "       [19,  5, 10, 15, 20]])"
      ]
     },
     "execution_count": 80,
     "metadata": {},
     "output_type": "execute_result"
    }
   ],
   "source": [
    "np.vstack([upper,lower])"
   ]
  },
  {
   "cell_type": "code",
   "execution_count": 81,
   "id": "d6c661f0",
   "metadata": {},
   "outputs": [
    {
     "data": {
      "text/plain": [
       "array([[ 1,  6, 11, 16,  2, 13, 18,  4,  9, 14],\n",
       "       [ 7, 12, 17,  3,  8, 19,  5, 10, 15, 20]])"
      ]
     },
     "execution_count": 81,
     "metadata": {},
     "output_type": "execute_result"
    }
   ],
   "source": [
    "np.hstack([upper,lower])"
   ]
  },
  {
   "cell_type": "code",
   "execution_count": 82,
   "id": "fdf67601",
   "metadata": {},
   "outputs": [
    {
     "data": {
      "text/plain": [
       "array([[ 2,  7, 12, 17],\n",
       "       [ 3,  8, 13, 18],\n",
       "       [ 4,  9, 14, 19],\n",
       "       [ 5, 10, 15, 20],\n",
       "       [ 6, 11, 16, 21]])"
      ]
     },
     "execution_count": 82,
     "metadata": {},
     "output_type": "execute_result"
    }
   ],
   "source": [
    "np.add(MyArray5,1)"
   ]
  },
  {
   "cell_type": "code",
   "execution_count": 83,
   "id": "5454d4d3",
   "metadata": {},
   "outputs": [],
   "source": [
    "#36.7ndarray的元素类型"
   ]
  },
  {
   "cell_type": "code",
   "execution_count": 84,
   "id": "d2e1bf0b",
   "metadata": {},
   "outputs": [
    {
     "data": {
      "text/plain": [
       "array([0, 0, 0, 0, 0, 0, 0, 0, 0, 0], dtype=int16)"
      ]
     },
     "execution_count": 84,
     "metadata": {},
     "output_type": "execute_result"
    }
   ],
   "source": [
    "import numpy as np\n",
    "np.zeros(10,dtype=\"int16\")"
   ]
  },
  {
   "cell_type": "code",
   "execution_count": 85,
   "id": "35e8af3b",
   "metadata": {},
   "outputs": [
    {
     "data": {
      "text/plain": [
       "array([0., 0., 0., 0., 0., 0., 0., 0., 0., 0.])"
      ]
     },
     "execution_count": 85,
     "metadata": {},
     "output_type": "execute_result"
    }
   ],
   "source": [
    "np.zeros(10,dtype=\"float\")"
   ]
  },
  {
   "cell_type": "code",
   "execution_count": 86,
   "id": "1bdcbf42",
   "metadata": {},
   "outputs": [
    {
     "data": {
      "text/plain": [
       "array([1, 2, 3, None], dtype=object)"
      ]
     },
     "execution_count": 86,
     "metadata": {},
     "output_type": "execute_result"
    }
   ],
   "source": [
    "a1=np.array([1,2,3,None])\n",
    "a1"
   ]
  },
  {
   "cell_type": "code",
   "execution_count": 87,
   "id": "226af581",
   "metadata": {},
   "outputs": [
    {
     "data": {
      "text/plain": [
       "array([1, 2, 3, None, nan], dtype=object)"
      ]
     },
     "execution_count": 87,
     "metadata": {},
     "output_type": "execute_result"
    }
   ],
   "source": [
    "a1=np.array([1,2,3,None,np.nan])\n",
    "a1"
   ]
  },
  {
   "cell_type": "code",
   "execution_count": 88,
   "id": "f6af16de",
   "metadata": {},
   "outputs": [],
   "source": [
    "#36.8插入与删除"
   ]
  },
  {
   "cell_type": "code",
   "execution_count": 89,
   "id": "860e125b",
   "metadata": {},
   "outputs": [],
   "source": [
    "import numpy as np"
   ]
  },
  {
   "cell_type": "code",
   "execution_count": 90,
   "id": "13a32b78",
   "metadata": {},
   "outputs": [
    {
     "data": {
      "text/plain": [
       "array([11, 12, 14, 15, 16, 17, 18])"
      ]
     },
     "execution_count": 90,
     "metadata": {},
     "output_type": "execute_result"
    }
   ],
   "source": [
    "myArray1=np.array([11,12,13,14,15,16,17,18])\n",
    "np.delete(myArray1,2)"
   ]
  },
  {
   "cell_type": "code",
   "execution_count": 92,
   "id": "9245ee2f",
   "metadata": {},
   "outputs": [
    {
     "data": {
      "text/plain": [
       "array([11, 88, 12, 13, 14, 15, 16, 17, 18])"
      ]
     },
     "execution_count": 92,
     "metadata": {},
     "output_type": "execute_result"
    }
   ],
   "source": [
    "np.insert(myArray1,1,88)"
   ]
  },
  {
   "cell_type": "code",
   "execution_count": 93,
   "id": "73a848c2",
   "metadata": {},
   "outputs": [],
   "source": [
    "#36.9缺失值处理"
   ]
  },
  {
   "cell_type": "code",
   "execution_count": 94,
   "id": "539529fa",
   "metadata": {},
   "outputs": [
    {
     "data": {
      "text/plain": [
       "array([False, False, False, False, False, False, False, False, False,\n",
       "       False])"
      ]
     },
     "execution_count": 94,
     "metadata": {},
     "output_type": "execute_result"
    }
   ],
   "source": [
    "np.isnan(myArray)"
   ]
  },
  {
   "cell_type": "code",
   "execution_count": 95,
   "id": "e397dca4",
   "metadata": {},
   "outputs": [
    {
     "data": {
      "text/plain": [
       "False"
      ]
     },
     "execution_count": 95,
     "metadata": {},
     "output_type": "execute_result"
    }
   ],
   "source": [
    "np.any(np.isnan(myArray))"
   ]
  },
  {
   "cell_type": "code",
   "execution_count": 96,
   "id": "f73a6826",
   "metadata": {},
   "outputs": [
    {
     "data": {
      "text/plain": [
       "False"
      ]
     },
     "execution_count": 96,
     "metadata": {},
     "output_type": "execute_result"
    }
   ],
   "source": [
    "np.all(np.isnan(myArray))"
   ]
  },
  {
   "cell_type": "code",
   "execution_count": 97,
   "id": "755cbd9f",
   "metadata": {},
   "outputs": [
    {
     "data": {
      "text/plain": [
       "6.0"
      ]
     },
     "execution_count": 97,
     "metadata": {},
     "output_type": "execute_result"
    }
   ],
   "source": [
    "MyArray=np.array([1,2,3,np.nan])\n",
    "np.nansum(MyArray)"
   ]
  },
  {
   "cell_type": "code",
   "execution_count": 98,
   "id": "99fe8192",
   "metadata": {},
   "outputs": [
    {
     "data": {
      "text/plain": [
       "nan"
      ]
     },
     "execution_count": 98,
     "metadata": {},
     "output_type": "execute_result"
    }
   ],
   "source": [
    "np.sum(MyArray)"
   ]
  },
  {
   "cell_type": "code",
   "execution_count": 99,
   "id": "f7463922",
   "metadata": {},
   "outputs": [],
   "source": [
    "#36.10ndarray的广播规则\n"
   ]
  },
  {
   "cell_type": "code",
   "execution_count": 100,
   "id": "ec70ee2a",
   "metadata": {},
   "outputs": [
    {
     "data": {
      "text/plain": [
       "array([[1, 2, 3],\n",
       "       [4, 5, 6],\n",
       "       [7, 8, 9]])"
      ]
     },
     "execution_count": 100,
     "metadata": {},
     "output_type": "execute_result"
    }
   ],
   "source": [
    "import numpy as np\n",
    "A1=np.array(range(1,10)).reshape([3,3])\n",
    "A1"
   ]
  },
  {
   "cell_type": "code",
   "execution_count": 101,
   "id": "f72a12ec",
   "metadata": {},
   "outputs": [
    {
     "data": {
      "text/plain": [
       "array([10, 10, 10])"
      ]
     },
     "execution_count": 101,
     "metadata": {},
     "output_type": "execute_result"
    }
   ],
   "source": [
    "A2=np.array([10,10,10])\n",
    "A2"
   ]
  },
  {
   "cell_type": "code",
   "execution_count": 102,
   "id": "4cb5d8ee",
   "metadata": {},
   "outputs": [
    {
     "data": {
      "text/plain": [
       "array([[11, 12, 13],\n",
       "       [14, 15, 16],\n",
       "       [17, 18, 19]])"
      ]
     },
     "execution_count": 102,
     "metadata": {},
     "output_type": "execute_result"
    }
   ],
   "source": [
    "A1+A2"
   ]
  },
  {
   "cell_type": "code",
   "execution_count": 103,
   "id": "aa0ea75d",
   "metadata": {},
   "outputs": [
    {
     "data": {
      "text/plain": [
       "array([[0, 1, 2, 3, 4],\n",
       "       [5, 6, 7, 8, 9]])"
      ]
     },
     "execution_count": 103,
     "metadata": {},
     "output_type": "execute_result"
    }
   ],
   "source": [
    "A3=np.arange(10).reshape(2,5)\n",
    "A3"
   ]
  },
  {
   "cell_type": "code",
   "execution_count": 104,
   "id": "181cba68",
   "metadata": {},
   "outputs": [
    {
     "data": {
      "text/plain": [
       "array([[ 0,  1,  2,  3],\n",
       "       [ 4,  5,  6,  7],\n",
       "       [ 8,  9, 10, 11],\n",
       "       [12, 13, 14, 15]])"
      ]
     },
     "execution_count": 104,
     "metadata": {},
     "output_type": "execute_result"
    }
   ],
   "source": [
    "A4=np.arange(16).reshape(4,4)\n",
    "A4"
   ]
  },
  {
   "cell_type": "code",
   "execution_count": 105,
   "id": "53d960f9",
   "metadata": {},
   "outputs": [
    {
     "ename": "ValueError",
     "evalue": "operands could not be broadcast together with shapes (2,5) (4,4) ",
     "output_type": "error",
     "traceback": [
      "\u001b[1;31m---------------------------------------------------------------------------\u001b[0m",
      "\u001b[1;31mValueError\u001b[0m                                Traceback (most recent call last)",
      "\u001b[1;32mC:\\Users\\ALVINA~1\\AppData\\Local\\Temp/ipykernel_38372/1697945148.py\u001b[0m in \u001b[0;36m<module>\u001b[1;34m\u001b[0m\n\u001b[1;32m----> 1\u001b[1;33m \u001b[0mA3\u001b[0m\u001b[1;33m+\u001b[0m\u001b[0mA4\u001b[0m\u001b[1;33m\u001b[0m\u001b[1;33m\u001b[0m\u001b[0m\n\u001b[0m",
      "\u001b[1;31mValueError\u001b[0m: operands could not be broadcast together with shapes (2,5) (4,4) "
     ]
    }
   ],
   "source": [
    "A3+A4"
   ]
  },
  {
   "cell_type": "code",
   "execution_count": 106,
   "id": "d8c9cb36",
   "metadata": {},
   "outputs": [],
   "source": [
    "#36.11 ndarray的排序"
   ]
  },
  {
   "cell_type": "code",
   "execution_count": 107,
   "id": "a3ff019a",
   "metadata": {},
   "outputs": [
    {
     "data": {
      "text/plain": [
       "array([11, 18, 13, 12, 19, 15, 14, 17, 16])"
      ]
     },
     "execution_count": 107,
     "metadata": {},
     "output_type": "execute_result"
    }
   ],
   "source": [
    "import numpy as np\n",
    "myArray=np.array([11,18,13,12,19,15,14,17,16])\n",
    "myArray"
   ]
  },
  {
   "cell_type": "code",
   "execution_count": 108,
   "id": "8f45b779",
   "metadata": {},
   "outputs": [
    {
     "data": {
      "text/plain": [
       "array([11, 12, 13, 14, 15, 16, 17, 18, 19])"
      ]
     },
     "execution_count": 108,
     "metadata": {},
     "output_type": "execute_result"
    }
   ],
   "source": [
    "np.sort(myArray)"
   ]
  },
  {
   "cell_type": "code",
   "execution_count": 109,
   "id": "98d0c3ca",
   "metadata": {},
   "outputs": [
    {
     "data": {
      "text/plain": [
       "array([0, 3, 2, 6, 5, 8, 7, 1, 4], dtype=int64)"
      ]
     },
     "execution_count": 109,
     "metadata": {},
     "output_type": "execute_result"
    }
   ],
   "source": [
    "np.argsort(myArray)"
   ]
  },
  {
   "cell_type": "code",
   "execution_count": 110,
   "id": "b75e7e9f",
   "metadata": {},
   "outputs": [],
   "source": [
    "MyArray=np.array([[21,22,23,24,25],\n",
    "                 [35,34,33,32,31],\n",
    "                 [1,2,3,100,4]])"
   ]
  },
  {
   "cell_type": "code",
   "execution_count": 112,
   "id": "ea481a97",
   "metadata": {},
   "outputs": [
    {
     "data": {
      "text/plain": [
       "array([[ 21,  22,  23,  24,  25],\n",
       "       [ 31,  32,  33,  34,  35],\n",
       "       [  1,   2,   3,   4, 100]])"
      ]
     },
     "execution_count": 112,
     "metadata": {},
     "output_type": "execute_result"
    }
   ],
   "source": [
    "np.sort(MyArray,axis=1)"
   ]
  },
  {
   "cell_type": "code",
   "execution_count": 113,
   "id": "31758bb3",
   "metadata": {},
   "outputs": [
    {
     "data": {
      "text/plain": [
       "array([[  1,   2,   3,  24,   4],\n",
       "       [ 21,  22,  23,  32,  25],\n",
       "       [ 35,  34,  33, 100,  31]])"
      ]
     },
     "execution_count": 113,
     "metadata": {},
     "output_type": "execute_result"
    }
   ],
   "source": [
    "np.sort(MyArray,axis=0)"
   ]
  },
  {
   "cell_type": "code",
   "execution_count": null,
   "id": "b3ab23db",
   "metadata": {},
   "outputs": [],
   "source": []
  }
 ],
 "metadata": {
  "kernelspec": {
   "display_name": "Python 3 (ipykernel)",
   "language": "python",
   "name": "python3"
  },
  "language_info": {
   "codemirror_mode": {
    "name": "ipython",
    "version": 3
   },
   "file_extension": ".py",
   "mimetype": "text/x-python",
   "name": "python",
   "nbconvert_exporter": "python",
   "pygments_lexer": "ipython3",
   "version": "3.9.7"
  }
 },
 "nbformat": 4,
 "nbformat_minor": 5
}
