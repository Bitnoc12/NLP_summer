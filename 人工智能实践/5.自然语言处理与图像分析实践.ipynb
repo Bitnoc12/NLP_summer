{
 "cells": [
  {
   "cell_type": "code",
   "execution_count": 1,
   "id": "97eaaaf4",
   "metadata": {},
   "outputs": [],
   "source": [
    "#包导入及设置"
   ]
  },
  {
   "cell_type": "code",
   "execution_count": 2,
   "id": "74a8089b",
   "metadata": {},
   "outputs": [],
   "source": [
    "import pynlpir as pynlpir"
   ]
  },
  {
   "cell_type": "code",
   "execution_count": 3,
   "id": "7a3416a3",
   "metadata": {},
   "outputs": [],
   "source": [
    "import numpy as np\n",
    "import pandas as pd\n",
    "import matplotlib.pyplot as plt\n",
    "import seaborn as sns;\n",
    "sns.set()"
   ]
  },
  {
   "cell_type": "code",
   "execution_count": 4,
   "id": "201a6212",
   "metadata": {},
   "outputs": [],
   "source": [
    "%matplotlib inline"
   ]
  },
  {
   "cell_type": "code",
   "execution_count": 5,
   "id": "52bd1f68",
   "metadata": {},
   "outputs": [],
   "source": [
    "#中文显示字体设置\n",
    "from matplotlib.font_manager import FontProperties\n",
    "font=FontProperties(fname=r'c:\\windows\\fonts\\simhei.ttf',size=15)"
   ]
  },
  {
   "cell_type": "code",
   "execution_count": 6,
   "id": "61576268",
   "metadata": {},
   "outputs": [],
   "source": [
    "#数据读入"
   ]
  },
  {
   "cell_type": "code",
   "execution_count": 7,
   "id": "23037795",
   "metadata": {},
   "outputs": [
    {
     "data": {
      "text/plain": [
       "'主持人：中国中央电视台！主持人：中国中央电视台！主持人：此刻我们在北京中央电视台一号演播大厅向全球现场直播《2017年春节联欢晚会》。主持人：春回大地百花艳，节至人间万象新，一年一度的春节联欢晚会又一次如约而至。主持人：连续举办34年的央视春晚，已经成为伴随13亿中华儿女和全球华人辞旧迎新的新年俗。'"
      ]
     },
     "execution_count": 7,
     "metadata": {},
     "output_type": "execute_result"
    }
   ],
   "source": [
    "text=open('2017.txt','r').read().replace('\\n','')\n",
    "#查看已读入数据\n",
    "text[0:150]"
   ]
  },
  {
   "cell_type": "code",
   "execution_count": 8,
   "id": "5965f716",
   "metadata": {},
   "outputs": [],
   "source": [
    "#分词处理"
   ]
  },
  {
   "cell_type": "code",
   "execution_count": 9,
   "id": "bace04d1",
   "metadata": {
    "scrolled": false
   },
   "outputs": [],
   "source": [
    "#打开分词器\n",
    "pynlpir.open()"
   ]
  },
  {
   "cell_type": "code",
   "execution_count": 10,
   "id": "a7ca8523",
   "metadata": {},
   "outputs": [
    {
     "data": {
      "text/plain": [
       "[('主持人', '名词'),\n",
       " ('：', '标点符号'),\n",
       " ('中国', '名词'),\n",
       " ('中央电视台', '复合语'),\n",
       " ('！', '标点符号'),\n",
       " ('主持人', '名词'),\n",
       " ('：', '标点符号'),\n",
       " ('中国', '名词'),\n",
       " ('中央电视台', '复合语'),\n",
       " ('！', '标点符号'),\n",
       " ('主持人', '名词'),\n",
       " ('：', '标点符号'),\n",
       " ('此刻', '代词'),\n",
       " ('我们', '代词'),\n",
       " ('在', '介词'),\n",
       " ('北京', '名词'),\n",
       " ('中央电视台', '复合语'),\n",
       " ('一', '数词'),\n",
       " ('号', '量词'),\n",
       " ('演播', '动词')]"
      ]
     },
     "execution_count": 10,
     "metadata": {},
     "output_type": "execute_result"
    }
   ],
   "source": [
    "pynlpir.segment(text,pos_names='parent',pos_english=False)[:20]"
   ]
  },
  {
   "cell_type": "code",
   "execution_count": 11,
   "id": "85198660",
   "metadata": {},
   "outputs": [],
   "source": [
    "#自定义词汇"
   ]
  },
  {
   "cell_type": "code",
   "execution_count": 12,
   "id": "925d9a6d",
   "metadata": {},
   "outputs": [
    {
     "data": {
      "text/plain": [
       "1"
      ]
     },
     "execution_count": 12,
     "metadata": {},
     "output_type": "execute_result"
    }
   ],
   "source": [
    "pynlpir.nlpir.AddUserWord('央视'.encode('utf8'),'noun')\n",
    "pynlpir.nlpir.AddUserWord('主持人：'.encode('utf8'),'noun')\n",
    "pynlpir.nlpir.AddUserWord('观众朋友们'.encode('utf8'),'noun')\n",
    "pynlpir.nlpir.AddUserWord('春联'.encode('utf8'),'noun')\n",
    "pynlpir.nlpir.AddUserWord('一号演播大厅'.encode('utf8'),'noun')\n",
    "pynlpir.nlpir.AddUserWord('综合频道'.encode('utf8'),'noun')\n",
    "pynlpir.nlpir.AddUserWord('综艺频道'.encode('utf8'),'noun')\n",
    "pynlpir.nlpir.AddUserWord('中文国际频道'.encode('utf8'),'noun')\n",
    "pynlpir.nlpir.AddUserWord('军事农业频道'.encode('utf8'),'noun')\n",
    "pynlpir.nlpir.AddUserWord('少儿频道'.encode('utf8'),'noun')"
   ]
  },
  {
   "cell_type": "code",
   "execution_count": 13,
   "id": "18cd71ea",
   "metadata": {
    "scrolled": true
   },
   "outputs": [
    {
     "data": {
      "text/plain": [
       "[('主持人：', '名词'),\n",
       " ('中国', '名词'),\n",
       " ('中央电视台', '复合语'),\n",
       " ('！', '标点符号'),\n",
       " ('主持人：', '名词'),\n",
       " ('中国', '名词'),\n",
       " ('中央电视台', '复合语'),\n",
       " ('！', '标点符号'),\n",
       " ('主持人：', '名词'),\n",
       " ('此刻', '代词'),\n",
       " ('我们', '代词'),\n",
       " ('在', '介词'),\n",
       " ('北京', '名词'),\n",
       " ('中央电视台', '复合语'),\n",
       " ('一号演播大厅', '名词'),\n",
       " ('向', '介词'),\n",
       " ('全球', '名词'),\n",
       " ('现场', '处所词'),\n",
       " ('直播', '动词'),\n",
       " ('《', '标点符号')]"
      ]
     },
     "execution_count": 13,
     "metadata": {},
     "output_type": "execute_result"
    }
   ],
   "source": [
    "pynlpir.segment(text,pos_names='parent',pos_english=False)[:20]"
   ]
  },
  {
   "cell_type": "code",
   "execution_count": 14,
   "id": "7da18f7e",
   "metadata": {},
   "outputs": [
    {
     "data": {
      "text/plain": [
       "[['主持人：', '名词', 2017],\n",
       " ['中国', '名词', 2017],\n",
       " ['中央电视台', '复合语', 2017],\n",
       " ['！', '标点符号', 2017],\n",
       " ['主持人：', '名词', 2017],\n",
       " ['中国', '名词', 2017],\n",
       " ['中央电视台', '复合语', 2017],\n",
       " ['！', '标点符号', 2017],\n",
       " ['主持人：', '名词', 2017],\n",
       " ['此刻', '代词', 2017],\n",
       " ['我们', '代词', 2017],\n",
       " ['在', '介词', 2017],\n",
       " ['北京', '名词', 2017]]"
      ]
     },
     "execution_count": 14,
     "metadata": {},
     "output_type": "execute_result"
    }
   ],
   "source": [
    "#现在对2017年春晚主持词数据进行分词，并追加至一个新的列表words\n",
    "\n",
    "#学会先定义一个空结构，然后补充的思路\n",
    "words=[]\n",
    "year=2017\n",
    "year_words=[]\n",
    "year_words.extend(pynlpir.segment(text,pos_names='parent',pos_english=False))\n",
    "\n",
    "#由于这里的year_words是[元组]，无法修改，将其转换成【列表】\n",
    "for i in range(len(year_words)):\n",
    "    ls_year_words=list(year_words[i])\n",
    "    ls_year_words.append(year)\n",
    "    words.append(ls_year_words)\n",
    "    \n",
    "words[:13]"
   ]
  },
  {
   "cell_type": "code",
   "execution_count": 15,
   "id": "b21843fe",
   "metadata": {},
   "outputs": [
    {
     "data": {
      "text/html": [
       "<div>\n",
       "<style scoped>\n",
       "    .dataframe tbody tr th:only-of-type {\n",
       "        vertical-align: middle;\n",
       "    }\n",
       "\n",
       "    .dataframe tbody tr th {\n",
       "        vertical-align: top;\n",
       "    }\n",
       "\n",
       "    .dataframe thead th {\n",
       "        text-align: right;\n",
       "    }\n",
       "</style>\n",
       "<table border=\"1\" class=\"dataframe\">\n",
       "  <thead>\n",
       "    <tr style=\"text-align: right;\">\n",
       "      <th></th>\n",
       "      <th>词汇</th>\n",
       "      <th>词性</th>\n",
       "      <th>年份</th>\n",
       "    </tr>\n",
       "  </thead>\n",
       "  <tbody>\n",
       "    <tr>\n",
       "      <th>0</th>\n",
       "      <td>主持人：</td>\n",
       "      <td>名词</td>\n",
       "      <td>2017</td>\n",
       "    </tr>\n",
       "    <tr>\n",
       "      <th>1</th>\n",
       "      <td>中国</td>\n",
       "      <td>名词</td>\n",
       "      <td>2017</td>\n",
       "    </tr>\n",
       "    <tr>\n",
       "      <th>2</th>\n",
       "      <td>中央电视台</td>\n",
       "      <td>复合语</td>\n",
       "      <td>2017</td>\n",
       "    </tr>\n",
       "    <tr>\n",
       "      <th>3</th>\n",
       "      <td>！</td>\n",
       "      <td>标点符号</td>\n",
       "      <td>2017</td>\n",
       "    </tr>\n",
       "    <tr>\n",
       "      <th>4</th>\n",
       "      <td>主持人：</td>\n",
       "      <td>名词</td>\n",
       "      <td>2017</td>\n",
       "    </tr>\n",
       "    <tr>\n",
       "      <th>5</th>\n",
       "      <td>中国</td>\n",
       "      <td>名词</td>\n",
       "      <td>2017</td>\n",
       "    </tr>\n",
       "    <tr>\n",
       "      <th>6</th>\n",
       "      <td>中央电视台</td>\n",
       "      <td>复合语</td>\n",
       "      <td>2017</td>\n",
       "    </tr>\n",
       "    <tr>\n",
       "      <th>7</th>\n",
       "      <td>！</td>\n",
       "      <td>标点符号</td>\n",
       "      <td>2017</td>\n",
       "    </tr>\n",
       "    <tr>\n",
       "      <th>8</th>\n",
       "      <td>主持人：</td>\n",
       "      <td>名词</td>\n",
       "      <td>2017</td>\n",
       "    </tr>\n",
       "    <tr>\n",
       "      <th>9</th>\n",
       "      <td>此刻</td>\n",
       "      <td>代词</td>\n",
       "      <td>2017</td>\n",
       "    </tr>\n",
       "    <tr>\n",
       "      <th>10</th>\n",
       "      <td>我们</td>\n",
       "      <td>代词</td>\n",
       "      <td>2017</td>\n",
       "    </tr>\n",
       "    <tr>\n",
       "      <th>11</th>\n",
       "      <td>在</td>\n",
       "      <td>介词</td>\n",
       "      <td>2017</td>\n",
       "    </tr>\n",
       "    <tr>\n",
       "      <th>12</th>\n",
       "      <td>北京</td>\n",
       "      <td>名词</td>\n",
       "      <td>2017</td>\n",
       "    </tr>\n",
       "    <tr>\n",
       "      <th>13</th>\n",
       "      <td>中央电视台</td>\n",
       "      <td>复合语</td>\n",
       "      <td>2017</td>\n",
       "    </tr>\n",
       "    <tr>\n",
       "      <th>14</th>\n",
       "      <td>一号演播大厅</td>\n",
       "      <td>名词</td>\n",
       "      <td>2017</td>\n",
       "    </tr>\n",
       "    <tr>\n",
       "      <th>15</th>\n",
       "      <td>向</td>\n",
       "      <td>介词</td>\n",
       "      <td>2017</td>\n",
       "    </tr>\n",
       "    <tr>\n",
       "      <th>16</th>\n",
       "      <td>全球</td>\n",
       "      <td>名词</td>\n",
       "      <td>2017</td>\n",
       "    </tr>\n",
       "    <tr>\n",
       "      <th>17</th>\n",
       "      <td>现场</td>\n",
       "      <td>处所词</td>\n",
       "      <td>2017</td>\n",
       "    </tr>\n",
       "    <tr>\n",
       "      <th>18</th>\n",
       "      <td>直播</td>\n",
       "      <td>动词</td>\n",
       "      <td>2017</td>\n",
       "    </tr>\n",
       "    <tr>\n",
       "      <th>19</th>\n",
       "      <td>《</td>\n",
       "      <td>标点符号</td>\n",
       "      <td>2017</td>\n",
       "    </tr>\n",
       "    <tr>\n",
       "      <th>20</th>\n",
       "      <td>2017年</td>\n",
       "      <td>时间词</td>\n",
       "      <td>2017</td>\n",
       "    </tr>\n",
       "    <tr>\n",
       "      <th>21</th>\n",
       "      <td>春节</td>\n",
       "      <td>时间词</td>\n",
       "      <td>2017</td>\n",
       "    </tr>\n",
       "    <tr>\n",
       "      <th>22</th>\n",
       "      <td>联欢</td>\n",
       "      <td>动词</td>\n",
       "      <td>2017</td>\n",
       "    </tr>\n",
       "    <tr>\n",
       "      <th>23</th>\n",
       "      <td>晚会</td>\n",
       "      <td>名词</td>\n",
       "      <td>2017</td>\n",
       "    </tr>\n",
       "    <tr>\n",
       "      <th>24</th>\n",
       "      <td>》</td>\n",
       "      <td>标点符号</td>\n",
       "      <td>2017</td>\n",
       "    </tr>\n",
       "  </tbody>\n",
       "</table>\n",
       "</div>"
      ],
      "text/plain": [
       "        词汇    词性    年份\n",
       "0     主持人：    名词  2017\n",
       "1       中国    名词  2017\n",
       "2    中央电视台   复合语  2017\n",
       "3        ！  标点符号  2017\n",
       "4     主持人：    名词  2017\n",
       "5       中国    名词  2017\n",
       "6    中央电视台   复合语  2017\n",
       "7        ！  标点符号  2017\n",
       "8     主持人：    名词  2017\n",
       "9       此刻    代词  2017\n",
       "10      我们    代词  2017\n",
       "11       在    介词  2017\n",
       "12      北京    名词  2017\n",
       "13   中央电视台   复合语  2017\n",
       "14  一号演播大厅    名词  2017\n",
       "15       向    介词  2017\n",
       "16      全球    名词  2017\n",
       "17      现场   处所词  2017\n",
       "18      直播    动词  2017\n",
       "19       《  标点符号  2017\n",
       "20   2017年   时间词  2017\n",
       "21      春节   时间词  2017\n",
       "22      联欢    动词  2017\n",
       "23      晚会    名词  2017\n",
       "24       》  标点符号  2017"
      ]
     },
     "execution_count": 15,
     "metadata": {},
     "output_type": "execute_result"
    }
   ],
   "source": [
    "#将列表words转换成数据框df_words\n",
    "df_words=pd.DataFrame(words,columns=['词汇','词性','年份'])\n",
    "df_words.head(25)"
   ]
  },
  {
   "cell_type": "code",
   "execution_count": 16,
   "id": "1208b579",
   "metadata": {},
   "outputs": [
    {
     "data": {
      "text/plain": [
       "6473"
      ]
     },
     "execution_count": 16,
     "metadata": {},
     "output_type": "execute_result"
    }
   ],
   "source": [
    "df_words.index.size"
   ]
  },
  {
   "cell_type": "code",
   "execution_count": 17,
   "id": "a09a1481",
   "metadata": {},
   "outputs": [],
   "source": [
    "#停用词的处理"
   ]
  },
  {
   "cell_type": "code",
   "execution_count": 18,
   "id": "a6da0082",
   "metadata": {},
   "outputs": [
    {
     "data": {
      "text/plain": [
       "'主持人:\\n主持人：\\n主持词\\n(\\n（\\n？\\n'"
      ]
     },
     "execution_count": 18,
     "metadata": {},
     "output_type": "execute_result"
    }
   ],
   "source": [
    "stopwords=open('stopwords.txt').read()\n",
    "stopwords[:20]"
   ]
  },
  {
   "cell_type": "code",
   "execution_count": 19,
   "id": "1df79627",
   "metadata": {},
   "outputs": [],
   "source": [
    "#过滤停用词\n",
    "\n",
    "for i in range(df_words.shape[0]):\n",
    "    if(df_words.词汇[i] in stopwords):\n",
    "        df_words.drop(i,inplace=True)\n",
    "    \n",
    "    else:\n",
    "        pass"
   ]
  },
  {
   "cell_type": "code",
   "execution_count": 20,
   "id": "1ad0404e",
   "metadata": {},
   "outputs": [
    {
     "data": {
      "text/html": [
       "<div>\n",
       "<style scoped>\n",
       "    .dataframe tbody tr th:only-of-type {\n",
       "        vertical-align: middle;\n",
       "    }\n",
       "\n",
       "    .dataframe tbody tr th {\n",
       "        vertical-align: top;\n",
       "    }\n",
       "\n",
       "    .dataframe thead th {\n",
       "        text-align: right;\n",
       "    }\n",
       "</style>\n",
       "<table border=\"1\" class=\"dataframe\">\n",
       "  <thead>\n",
       "    <tr style=\"text-align: right;\">\n",
       "      <th></th>\n",
       "      <th>词汇</th>\n",
       "      <th>词性</th>\n",
       "      <th>年份</th>\n",
       "    </tr>\n",
       "  </thead>\n",
       "  <tbody>\n",
       "    <tr>\n",
       "      <th>1</th>\n",
       "      <td>中国</td>\n",
       "      <td>名词</td>\n",
       "      <td>2017</td>\n",
       "    </tr>\n",
       "    <tr>\n",
       "      <th>2</th>\n",
       "      <td>中央电视台</td>\n",
       "      <td>复合语</td>\n",
       "      <td>2017</td>\n",
       "    </tr>\n",
       "    <tr>\n",
       "      <th>5</th>\n",
       "      <td>中国</td>\n",
       "      <td>名词</td>\n",
       "      <td>2017</td>\n",
       "    </tr>\n",
       "    <tr>\n",
       "      <th>6</th>\n",
       "      <td>中央电视台</td>\n",
       "      <td>复合语</td>\n",
       "      <td>2017</td>\n",
       "    </tr>\n",
       "    <tr>\n",
       "      <th>9</th>\n",
       "      <td>此刻</td>\n",
       "      <td>代词</td>\n",
       "      <td>2017</td>\n",
       "    </tr>\n",
       "    <tr>\n",
       "      <th>10</th>\n",
       "      <td>我们</td>\n",
       "      <td>代词</td>\n",
       "      <td>2017</td>\n",
       "    </tr>\n",
       "    <tr>\n",
       "      <th>12</th>\n",
       "      <td>北京</td>\n",
       "      <td>名词</td>\n",
       "      <td>2017</td>\n",
       "    </tr>\n",
       "    <tr>\n",
       "      <th>13</th>\n",
       "      <td>中央电视台</td>\n",
       "      <td>复合语</td>\n",
       "      <td>2017</td>\n",
       "    </tr>\n",
       "    <tr>\n",
       "      <th>14</th>\n",
       "      <td>一号演播大厅</td>\n",
       "      <td>名词</td>\n",
       "      <td>2017</td>\n",
       "    </tr>\n",
       "    <tr>\n",
       "      <th>15</th>\n",
       "      <td>向</td>\n",
       "      <td>介词</td>\n",
       "      <td>2017</td>\n",
       "    </tr>\n",
       "    <tr>\n",
       "      <th>16</th>\n",
       "      <td>全球</td>\n",
       "      <td>名词</td>\n",
       "      <td>2017</td>\n",
       "    </tr>\n",
       "    <tr>\n",
       "      <th>17</th>\n",
       "      <td>现场</td>\n",
       "      <td>处所词</td>\n",
       "      <td>2017</td>\n",
       "    </tr>\n",
       "    <tr>\n",
       "      <th>18</th>\n",
       "      <td>直播</td>\n",
       "      <td>动词</td>\n",
       "      <td>2017</td>\n",
       "    </tr>\n",
       "    <tr>\n",
       "      <th>20</th>\n",
       "      <td>2017年</td>\n",
       "      <td>时间词</td>\n",
       "      <td>2017</td>\n",
       "    </tr>\n",
       "    <tr>\n",
       "      <th>21</th>\n",
       "      <td>春节</td>\n",
       "      <td>时间词</td>\n",
       "      <td>2017</td>\n",
       "    </tr>\n",
       "  </tbody>\n",
       "</table>\n",
       "</div>"
      ],
      "text/plain": [
       "        词汇   词性    年份\n",
       "1       中国   名词  2017\n",
       "2    中央电视台  复合语  2017\n",
       "5       中国   名词  2017\n",
       "6    中央电视台  复合语  2017\n",
       "9       此刻   代词  2017\n",
       "10      我们   代词  2017\n",
       "12      北京   名词  2017\n",
       "13   中央电视台  复合语  2017\n",
       "14  一号演播大厅   名词  2017\n",
       "15       向   介词  2017\n",
       "16      全球   名词  2017\n",
       "17      现场  处所词  2017\n",
       "18      直播   动词  2017\n",
       "20   2017年  时间词  2017\n",
       "21      春节  时间词  2017"
      ]
     },
     "execution_count": 20,
     "metadata": {},
     "output_type": "execute_result"
    }
   ],
   "source": [
    "df_words.head(15)"
   ]
  },
  {
   "cell_type": "code",
   "execution_count": 21,
   "id": "1d741a65",
   "metadata": {},
   "outputs": [
    {
     "data": {
      "text/plain": [
       "(3976, 3)"
      ]
     },
     "execution_count": 21,
     "metadata": {},
     "output_type": "execute_result"
    }
   ],
   "source": [
    "df_words.shape"
   ]
  },
  {
   "cell_type": "code",
   "execution_count": 22,
   "id": "ffd80b6b",
   "metadata": {},
   "outputs": [],
   "source": [
    "#词性分布分析"
   ]
  },
  {
   "cell_type": "code",
   "execution_count": 23,
   "id": "a9b0e20f",
   "metadata": {},
   "outputs": [
    {
     "data": {
      "text/html": [
       "<div>\n",
       "<style scoped>\n",
       "    .dataframe tbody tr th:only-of-type {\n",
       "        vertical-align: middle;\n",
       "    }\n",
       "\n",
       "    .dataframe tbody tr th {\n",
       "        vertical-align: top;\n",
       "    }\n",
       "\n",
       "    .dataframe thead th {\n",
       "        text-align: right;\n",
       "    }\n",
       "</style>\n",
       "<table border=\"1\" class=\"dataframe\">\n",
       "  <thead>\n",
       "    <tr style=\"text-align: right;\">\n",
       "      <th></th>\n",
       "      <th>词性</th>\n",
       "    </tr>\n",
       "  </thead>\n",
       "  <tbody>\n",
       "    <tr>\n",
       "      <th>名词</th>\n",
       "      <td>1248</td>\n",
       "    </tr>\n",
       "    <tr>\n",
       "      <th>动词</th>\n",
       "      <td>963</td>\n",
       "    </tr>\n",
       "    <tr>\n",
       "      <th>代词</th>\n",
       "      <td>315</td>\n",
       "    </tr>\n",
       "    <tr>\n",
       "      <th>形容词</th>\n",
       "      <td>266</td>\n",
       "    </tr>\n",
       "    <tr>\n",
       "      <th>副词</th>\n",
       "      <td>213</td>\n",
       "    </tr>\n",
       "    <tr>\n",
       "      <th>量词</th>\n",
       "      <td>199</td>\n",
       "    </tr>\n",
       "    <tr>\n",
       "      <th>时间词</th>\n",
       "      <td>181</td>\n",
       "    </tr>\n",
       "    <tr>\n",
       "      <th>数词</th>\n",
       "      <td>180</td>\n",
       "    </tr>\n",
       "    <tr>\n",
       "      <th>介词</th>\n",
       "      <td>94</td>\n",
       "    </tr>\n",
       "    <tr>\n",
       "      <th>方位词</th>\n",
       "      <td>65</td>\n",
       "    </tr>\n",
       "  </tbody>\n",
       "</table>\n",
       "</div>"
      ],
      "text/plain": [
       "       词性\n",
       "名词   1248\n",
       "动词    963\n",
       "代词    315\n",
       "形容词   266\n",
       "副词    213\n",
       "量词    199\n",
       "时间词   181\n",
       "数词    180\n",
       "介词     94\n",
       "方位词    65"
      ]
     },
     "execution_count": 23,
     "metadata": {},
     "output_type": "execute_result"
    }
   ],
   "source": [
    "#统计2017央视春晚主持人的词性分布\n",
    "df_WordSpeechDistribution=pd.DataFrame(df_words['词性'].value_counts(ascending=False))\n",
    "#valuecount的主要功能就是计数并按降序排序\n",
    "df_WordSpeechDistribution.head(10)"
   ]
  },
  {
   "cell_type": "code",
   "execution_count": 24,
   "id": "7a7c734d",
   "metadata": {},
   "outputs": [
    {
     "data": {
      "text/html": [
       "<div>\n",
       "<style scoped>\n",
       "    .dataframe tbody tr th:only-of-type {\n",
       "        vertical-align: middle;\n",
       "    }\n",
       "\n",
       "    .dataframe tbody tr th {\n",
       "        vertical-align: top;\n",
       "    }\n",
       "\n",
       "    .dataframe thead th {\n",
       "        text-align: right;\n",
       "    }\n",
       "</style>\n",
       "<table border=\"1\" class=\"dataframe\">\n",
       "  <thead>\n",
       "    <tr style=\"text-align: right;\">\n",
       "      <th></th>\n",
       "      <th>频数</th>\n",
       "    </tr>\n",
       "  </thead>\n",
       "  <tbody>\n",
       "    <tr>\n",
       "      <th>名词</th>\n",
       "      <td>1248</td>\n",
       "    </tr>\n",
       "    <tr>\n",
       "      <th>动词</th>\n",
       "      <td>963</td>\n",
       "    </tr>\n",
       "    <tr>\n",
       "      <th>代词</th>\n",
       "      <td>315</td>\n",
       "    </tr>\n",
       "    <tr>\n",
       "      <th>形容词</th>\n",
       "      <td>266</td>\n",
       "    </tr>\n",
       "    <tr>\n",
       "      <th>副词</th>\n",
       "      <td>213</td>\n",
       "    </tr>\n",
       "  </tbody>\n",
       "</table>\n",
       "</div>"
      ],
      "text/plain": [
       "       频数\n",
       "名词   1248\n",
       "动词    963\n",
       "代词    315\n",
       "形容词   266\n",
       "副词    213"
      ]
     },
     "execution_count": 24,
     "metadata": {},
     "output_type": "execute_result"
    }
   ],
   "source": [
    "df_WordSpeechDistribution.rename(columns={'词性':'频数'},inplace=True)\n",
    "\n",
    "df_WordSpeechDistribution.head()"
   ]
  },
  {
   "cell_type": "code",
   "execution_count": 25,
   "id": "fff8a252",
   "metadata": {},
   "outputs": [
    {
     "data": {
      "text/plain": [
       "3976"
      ]
     },
     "execution_count": 25,
     "metadata": {},
     "output_type": "execute_result"
    }
   ],
   "source": [
    "df_WordSpeechDistribution['频数'].sum()"
   ]
  },
  {
   "cell_type": "code",
   "execution_count": 26,
   "id": "1d783a85",
   "metadata": {},
   "outputs": [
    {
     "data": {
      "text/html": [
       "<div>\n",
       "<style scoped>\n",
       "    .dataframe tbody tr th:only-of-type {\n",
       "        vertical-align: middle;\n",
       "    }\n",
       "\n",
       "    .dataframe tbody tr th {\n",
       "        vertical-align: top;\n",
       "    }\n",
       "\n",
       "    .dataframe thead th {\n",
       "        text-align: right;\n",
       "    }\n",
       "</style>\n",
       "<table border=\"1\" class=\"dataframe\">\n",
       "  <thead>\n",
       "    <tr style=\"text-align: right;\">\n",
       "      <th></th>\n",
       "      <th>频数</th>\n",
       "      <th>百分比</th>\n",
       "    </tr>\n",
       "  </thead>\n",
       "  <tbody>\n",
       "    <tr>\n",
       "      <th>名词</th>\n",
       "      <td>1248</td>\n",
       "      <td>0.313883</td>\n",
       "    </tr>\n",
       "    <tr>\n",
       "      <th>动词</th>\n",
       "      <td>963</td>\n",
       "      <td>0.242203</td>\n",
       "    </tr>\n",
       "    <tr>\n",
       "      <th>代词</th>\n",
       "      <td>315</td>\n",
       "      <td>0.079225</td>\n",
       "    </tr>\n",
       "    <tr>\n",
       "      <th>形容词</th>\n",
       "      <td>266</td>\n",
       "      <td>0.066901</td>\n",
       "    </tr>\n",
       "    <tr>\n",
       "      <th>副词</th>\n",
       "      <td>213</td>\n",
       "      <td>0.053571</td>\n",
       "    </tr>\n",
       "    <tr>\n",
       "      <th>量词</th>\n",
       "      <td>199</td>\n",
       "      <td>0.050050</td>\n",
       "    </tr>\n",
       "    <tr>\n",
       "      <th>时间词</th>\n",
       "      <td>181</td>\n",
       "      <td>0.045523</td>\n",
       "    </tr>\n",
       "    <tr>\n",
       "      <th>数词</th>\n",
       "      <td>180</td>\n",
       "      <td>0.045272</td>\n",
       "    </tr>\n",
       "    <tr>\n",
       "      <th>介词</th>\n",
       "      <td>94</td>\n",
       "      <td>0.023642</td>\n",
       "    </tr>\n",
       "    <tr>\n",
       "      <th>方位词</th>\n",
       "      <td>65</td>\n",
       "      <td>0.016348</td>\n",
       "    </tr>\n",
       "  </tbody>\n",
       "</table>\n",
       "</div>"
      ],
      "text/plain": [
       "       频数       百分比\n",
       "名词   1248  0.313883\n",
       "动词    963  0.242203\n",
       "代词    315  0.079225\n",
       "形容词   266  0.066901\n",
       "副词    213  0.053571\n",
       "量词    199  0.050050\n",
       "时间词   181  0.045523\n",
       "数词    180  0.045272\n",
       "介词     94  0.023642\n",
       "方位词    65  0.016348"
      ]
     },
     "execution_count": 26,
     "metadata": {},
     "output_type": "execute_result"
    }
   ],
   "source": [
    "df_WordSpeechDistribution['百分比']=df_WordSpeechDistribution['频数']/df_WordSpeechDistribution['频数'].sum()\n",
    "df_WordSpeechDistribution.head(10)"
   ]
  },
  {
   "cell_type": "code",
   "execution_count": 27,
   "id": "4cdd061a",
   "metadata": {},
   "outputs": [
    {
     "data": {
      "text/plain": [
       "(22, 2)"
      ]
     },
     "execution_count": 27,
     "metadata": {},
     "output_type": "execute_result"
    }
   ],
   "source": [
    "df_WordSpeechDistribution.shape"
   ]
  },
  {
   "cell_type": "code",
   "execution_count": 28,
   "id": "61d21302",
   "metadata": {},
   "outputs": [
    {
     "data": {
      "text/plain": [
       "Text(0.5, 1.0, '2017央视春晚主持人【主持词】词性分布分析')"
      ]
     },
     "execution_count": 28,
     "metadata": {},
     "output_type": "execute_result"
    },
    {
     "data": {
      "image/png": "[encoded data removed]",
      "text/plain": [
       "<Figure size 504x360 with 1 Axes>"
      ]
     },
     "metadata": {
      "needs_background": "light"
     },
     "output_type": "display_data"
    }
   ],
   "source": [
    "#绘制前10位词性类别分布图\n",
    "plt.rcParams[\"font.family\"]='simHei'\n",
    "plt.subplots(figsize=(7,5))\n",
    "df_WordSpeechDistribution.iloc[:10]['频数'].plot(kind='barh')\n",
    "plt.yticks(fontproperties=font,size=10)\n",
    "plt.xlabel('频数',fontproperties=font,size=10)\n",
    "plt.ylabel('词性',fontproperties=font,size=10)\n",
    "plt.title('2017央视春晚主持人【主持词】词性分布分析',fontproperties=font)"
   ]
  },
  {
   "cell_type": "code",
   "execution_count": 29,
   "id": "569b2e14",
   "metadata": {},
   "outputs": [],
   "source": [
    "#高频词分析"
   ]
  },
  {
   "cell_type": "code",
   "execution_count": 30,
   "id": "b93b198c",
   "metadata": {},
   "outputs": [
    {
     "data": {
      "text/html": [
       "<div>\n",
       "<style scoped>\n",
       "    .dataframe tbody tr th:only-of-type {\n",
       "        vertical-align: middle;\n",
       "    }\n",
       "\n",
       "    .dataframe tbody tr th {\n",
       "        vertical-align: top;\n",
       "    }\n",
       "\n",
       "    .dataframe thead th {\n",
       "        text-align: right;\n",
       "    }\n",
       "</style>\n",
       "<table border=\"1\" class=\"dataframe\">\n",
       "  <thead>\n",
       "    <tr style=\"text-align: right;\">\n",
       "      <th></th>\n",
       "      <th>动词</th>\n",
       "      <th>动词计数</th>\n",
       "      <th>名词</th>\n",
       "      <th>名词计数</th>\n",
       "      <th>代词</th>\n",
       "      <th>代词计数</th>\n",
       "      <th>助词</th>\n",
       "      <th>助词计数</th>\n",
       "      <th>副词</th>\n",
       "      <th>副词计数</th>\n",
       "      <th>形容词</th>\n",
       "      <th>形容词计数</th>\n",
       "    </tr>\n",
       "  </thead>\n",
       "  <tbody>\n",
       "    <tr>\n",
       "      <th>0</th>\n",
       "      <td>要</td>\n",
       "      <td>23</td>\n",
       "      <td>中国</td>\n",
       "      <td>27</td>\n",
       "      <td>我们</td>\n",
       "      <td>100.0</td>\n",
       "      <td>着</td>\n",
       "      <td>16.0</td>\n",
       "      <td>不</td>\n",
       "      <td>22.0</td>\n",
       "      <td>好</td>\n",
       "      <td>23.0</td>\n",
       "    </tr>\n",
       "    <tr>\n",
       "      <th>1</th>\n",
       "      <td>到</td>\n",
       "      <td>22</td>\n",
       "      <td>福</td>\n",
       "      <td>27</td>\n",
       "      <td>我</td>\n",
       "      <td>34.0</td>\n",
       "      <td>过</td>\n",
       "      <td>12.0</td>\n",
       "      <td>最</td>\n",
       "      <td>13.0</td>\n",
       "      <td>新</td>\n",
       "      <td>19.0</td>\n",
       "    </tr>\n",
       "    <tr>\n",
       "      <th>2</th>\n",
       "      <td>请</td>\n",
       "      <td>20</td>\n",
       "      <td>朋友</td>\n",
       "      <td>22</td>\n",
       "      <td>这</td>\n",
       "      <td>32.0</td>\n",
       "      <td>之</td>\n",
       "      <td>11.0</td>\n",
       "      <td>更</td>\n",
       "      <td>12.0</td>\n",
       "      <td>大</td>\n",
       "      <td>15.0</td>\n",
       "    </tr>\n",
       "    <tr>\n",
       "      <th>3</th>\n",
       "      <td>来</td>\n",
       "      <td>18</td>\n",
       "      <td>观众</td>\n",
       "      <td>18</td>\n",
       "      <td>大家</td>\n",
       "      <td>23.0</td>\n",
       "      <td>得</td>\n",
       "      <td>10.0</td>\n",
       "      <td>就</td>\n",
       "      <td>11.0</td>\n",
       "      <td>老</td>\n",
       "      <td>11.0</td>\n",
       "    </tr>\n",
       "    <tr>\n",
       "      <th>4</th>\n",
       "      <td>看</td>\n",
       "      <td>14</td>\n",
       "      <td>航天员</td>\n",
       "      <td>17</td>\n",
       "      <td>你</td>\n",
       "      <td>16.0</td>\n",
       "      <td>地</td>\n",
       "      <td>5.0</td>\n",
       "      <td>正</td>\n",
       "      <td>9.0</td>\n",
       "      <td>幸运</td>\n",
       "      <td>11.0</td>\n",
       "    </tr>\n",
       "    <tr>\n",
       "      <th>5</th>\n",
       "      <td>说</td>\n",
       "      <td>14</td>\n",
       "      <td>观众朋友们</td>\n",
       "      <td>17</td>\n",
       "      <td>您</td>\n",
       "      <td>9.0</td>\n",
       "      <td>连</td>\n",
       "      <td>1.0</td>\n",
       "      <td>还</td>\n",
       "      <td>9.0</td>\n",
       "      <td>伟大</td>\n",
       "      <td>10.0</td>\n",
       "    </tr>\n",
       "    <tr>\n",
       "      <th>6</th>\n",
       "      <td>感谢</td>\n",
       "      <td>12</td>\n",
       "      <td>字</td>\n",
       "      <td>14</td>\n",
       "      <td>此刻</td>\n",
       "      <td>8.0</td>\n",
       "      <td>等</td>\n",
       "      <td>1.0</td>\n",
       "      <td>再</td>\n",
       "      <td>8.0</td>\n",
       "      <td>欢乐</td>\n",
       "      <td>9.0</td>\n",
       "    </tr>\n",
       "    <tr>\n",
       "      <th>7</th>\n",
       "      <td>带</td>\n",
       "      <td>11</td>\n",
       "      <td>神</td>\n",
       "      <td>14</td>\n",
       "      <td>各族</td>\n",
       "      <td>7.0</td>\n",
       "      <td>NaN</td>\n",
       "      <td>NaN</td>\n",
       "      <td>将</td>\n",
       "      <td>8.0</td>\n",
       "      <td>美好</td>\n",
       "      <td>6.0</td>\n",
       "    </tr>\n",
       "    <tr>\n",
       "      <th>8</th>\n",
       "      <td>会</td>\n",
       "      <td>10</td>\n",
       "      <td>全国</td>\n",
       "      <td>14</td>\n",
       "      <td>这里</td>\n",
       "      <td>7.0</td>\n",
       "      <td>NaN</td>\n",
       "      <td>NaN</td>\n",
       "      <td>正在</td>\n",
       "      <td>7.0</td>\n",
       "      <td>深</td>\n",
       "      <td>5.0</td>\n",
       "    </tr>\n",
       "    <tr>\n",
       "      <th>9</th>\n",
       "      <td>花</td>\n",
       "      <td>9</td>\n",
       "      <td>舟</td>\n",
       "      <td>14</td>\n",
       "      <td>每</td>\n",
       "      <td>7.0</td>\n",
       "      <td>NaN</td>\n",
       "      <td>NaN</td>\n",
       "      <td>又</td>\n",
       "      <td>7.0</td>\n",
       "      <td>多</td>\n",
       "      <td>4.0</td>\n",
       "    </tr>\n",
       "    <tr>\n",
       "      <th>10</th>\n",
       "      <td>过年</td>\n",
       "      <td>9</td>\n",
       "      <td>航天</td>\n",
       "      <td>13</td>\n",
       "      <td>你们</td>\n",
       "      <td>6.0</td>\n",
       "      <td>NaN</td>\n",
       "      <td>NaN</td>\n",
       "      <td>越</td>\n",
       "      <td>6.0</td>\n",
       "      <td>快乐</td>\n",
       "      <td>4.0</td>\n",
       "    </tr>\n",
       "    <tr>\n",
       "      <th>11</th>\n",
       "      <td>送</td>\n",
       "      <td>8</td>\n",
       "      <td>祖国</td>\n",
       "      <td>13</td>\n",
       "      <td>他们</td>\n",
       "      <td>6.0</td>\n",
       "      <td>NaN</td>\n",
       "      <td>NaN</td>\n",
       "      <td>一起</td>\n",
       "      <td>6.0</td>\n",
       "      <td>高</td>\n",
       "      <td>4.0</td>\n",
       "    </tr>\n",
       "    <tr>\n",
       "      <th>12</th>\n",
       "      <td>祝</td>\n",
       "      <td>8</td>\n",
       "      <td>人民</td>\n",
       "      <td>13</td>\n",
       "      <td>那</td>\n",
       "      <td>5.0</td>\n",
       "      <td>NaN</td>\n",
       "      <td>NaN</td>\n",
       "      <td>共同</td>\n",
       "      <td>5.0</td>\n",
       "      <td>广</td>\n",
       "      <td>4.0</td>\n",
       "    </tr>\n",
       "    <tr>\n",
       "      <th>13</th>\n",
       "      <td>祝福</td>\n",
       "      <td>8</td>\n",
       "      <td>此时此刻</td>\n",
       "      <td>12</td>\n",
       "      <td>自己</td>\n",
       "      <td>5.0</td>\n",
       "      <td>NaN</td>\n",
       "      <td>NaN</td>\n",
       "      <td>惟</td>\n",
       "      <td>4.0</td>\n",
       "      <td>小</td>\n",
       "      <td>4.0</td>\n",
       "    </tr>\n",
       "    <tr>\n",
       "      <th>14</th>\n",
       "      <td>想</td>\n",
       "      <td>8</td>\n",
       "      <td>舞台</td>\n",
       "      <td>11</td>\n",
       "      <td>谁</td>\n",
       "      <td>4.0</td>\n",
       "      <td>NaN</td>\n",
       "      <td>NaN</td>\n",
       "      <td>就要</td>\n",
       "      <td>4.0</td>\n",
       "      <td>绿</td>\n",
       "      <td>3.0</td>\n",
       "    </tr>\n",
       "    <tr>\n",
       "      <th>15</th>\n",
       "      <td>唱</td>\n",
       "      <td>8</td>\n",
       "      <td>代表</td>\n",
       "      <td>10</td>\n",
       "      <td>她</td>\n",
       "      <td>3.0</td>\n",
       "      <td>NaN</td>\n",
       "      <td>NaN</td>\n",
       "      <td>都</td>\n",
       "      <td>4.0</td>\n",
       "      <td>强</td>\n",
       "      <td>3.0</td>\n",
       "    </tr>\n",
       "  </tbody>\n",
       "</table>\n",
       "</div>"
      ],
      "text/plain": [
       "    动词  动词计数     名词  名词计数  代词   代词计数   助词  助词计数  副词  副词计数 形容词  形容词计数\n",
       "0    要    23     中国    27  我们  100.0    着  16.0   不  22.0   好   23.0\n",
       "1    到    22      福    27   我   34.0    过  12.0   最  13.0   新   19.0\n",
       "2    请    20     朋友    22   这   32.0    之  11.0   更  12.0   大   15.0\n",
       "3    来    18     观众    18  大家   23.0    得  10.0   就  11.0   老   11.0\n",
       "4    看    14    航天员    17   你   16.0    地   5.0   正   9.0  幸运   11.0\n",
       "5    说    14  观众朋友们    17   您    9.0    连   1.0   还   9.0  伟大   10.0\n",
       "6   感谢    12      字    14  此刻    8.0    等   1.0   再   8.0  欢乐    9.0\n",
       "7    带    11      神    14  各族    7.0  NaN   NaN   将   8.0  美好    6.0\n",
       "8    会    10     全国    14  这里    7.0  NaN   NaN  正在   7.0   深    5.0\n",
       "9    花     9      舟    14   每    7.0  NaN   NaN   又   7.0   多    4.0\n",
       "10  过年     9     航天    13  你们    6.0  NaN   NaN   越   6.0  快乐    4.0\n",
       "11   送     8     祖国    13  他们    6.0  NaN   NaN  一起   6.0   高    4.0\n",
       "12   祝     8     人民    13   那    5.0  NaN   NaN  共同   5.0   广    4.0\n",
       "13  祝福     8   此时此刻    12  自己    5.0  NaN   NaN   惟   4.0   小    4.0\n",
       "14   想     8     舞台    11   谁    4.0  NaN   NaN  就要   4.0   绿    3.0\n",
       "15   唱     8     代表    10   她    3.0  NaN   NaN   都   4.0   强    3.0"
      ]
     },
     "execution_count": 30,
     "metadata": {},
     "output_type": "execute_result"
    }
   ],
   "source": [
    "columns_selected=['动词','动词计数','名词','名词计数','代词','代词计数','助词','助词计数','副词','副词计数','形容词','形容词计数']\n",
    "\n",
    "df_Top6=pd.DataFrame(columns=columns_selected)\n",
    "\n",
    "for i in range(0,12,2):\n",
    "    df_Top6[columns_selected[i]]=df_words.loc[df_words['词性']==columns_selected[i]]['词汇'].value_counts().reset_index()['index']\n",
    "    df_Top6[columns_selected[i+1]]=df_words.loc[df_words['词性']==columns_selected[i]]['词汇'].value_counts().reset_index()['词汇']\n",
    "    \n",
    "df_Top6.head(16)"
   ]
  },
  {
   "cell_type": "code",
   "execution_count": 31,
   "id": "f002a5aa",
   "metadata": {},
   "outputs": [],
   "source": [
    "#词频统计"
   ]
  },
  {
   "cell_type": "code",
   "execution_count": 32,
   "id": "ca3401d8",
   "metadata": {},
   "outputs": [
    {
     "data": {
      "text/html": [
       "<div>\n",
       "<style scoped>\n",
       "    .dataframe tbody tr th:only-of-type {\n",
       "        vertical-align: middle;\n",
       "    }\n",
       "\n",
       "    .dataframe tbody tr th {\n",
       "        vertical-align: top;\n",
       "    }\n",
       "\n",
       "    .dataframe thead th {\n",
       "        text-align: right;\n",
       "    }\n",
       "</style>\n",
       "<table border=\"1\" class=\"dataframe\">\n",
       "  <thead>\n",
       "    <tr style=\"text-align: right;\">\n",
       "      <th></th>\n",
       "      <th>词汇</th>\n",
       "      <th>词性</th>\n",
       "      <th>年份</th>\n",
       "    </tr>\n",
       "  </thead>\n",
       "  <tbody>\n",
       "    <tr>\n",
       "      <th>1</th>\n",
       "      <td>中国</td>\n",
       "      <td>名词</td>\n",
       "      <td>2017</td>\n",
       "    </tr>\n",
       "    <tr>\n",
       "      <th>2</th>\n",
       "      <td>中央电视台</td>\n",
       "      <td>复合语</td>\n",
       "      <td>2017</td>\n",
       "    </tr>\n",
       "    <tr>\n",
       "      <th>5</th>\n",
       "      <td>中国</td>\n",
       "      <td>名词</td>\n",
       "      <td>2017</td>\n",
       "    </tr>\n",
       "    <tr>\n",
       "      <th>6</th>\n",
       "      <td>中央电视台</td>\n",
       "      <td>复合语</td>\n",
       "      <td>2017</td>\n",
       "    </tr>\n",
       "    <tr>\n",
       "      <th>9</th>\n",
       "      <td>此刻</td>\n",
       "      <td>代词</td>\n",
       "      <td>2017</td>\n",
       "    </tr>\n",
       "  </tbody>\n",
       "</table>\n",
       "</div>"
      ],
      "text/plain": [
       "      词汇   词性    年份\n",
       "1     中国   名词  2017\n",
       "2  中央电视台  复合语  2017\n",
       "5     中国   名词  2017\n",
       "6  中央电视台  复合语  2017\n",
       "9     此刻   代词  2017"
      ]
     },
     "execution_count": 32,
     "metadata": {},
     "output_type": "execute_result"
    }
   ],
   "source": [
    "df_words.head()"
   ]
  },
  {
   "cell_type": "code",
   "execution_count": 33,
   "id": "1f1ecca5",
   "metadata": {},
   "outputs": [
    {
     "data": {
      "text/html": [
       "<div>\n",
       "<style scoped>\n",
       "    .dataframe tbody tr th:only-of-type {\n",
       "        vertical-align: middle;\n",
       "    }\n",
       "\n",
       "    .dataframe tbody tr th {\n",
       "        vertical-align: top;\n",
       "    }\n",
       "\n",
       "    .dataframe thead th {\n",
       "        text-align: right;\n",
       "    }\n",
       "</style>\n",
       "<table border=\"1\" class=\"dataframe\">\n",
       "  <thead>\n",
       "    <tr style=\"text-align: right;\">\n",
       "      <th>年份</th>\n",
       "      <th>2017</th>\n",
       "    </tr>\n",
       "  </thead>\n",
       "  <tbody>\n",
       "    <tr>\n",
       "      <th>1</th>\n",
       "      <td>中国</td>\n",
       "    </tr>\n",
       "    <tr>\n",
       "      <th>2</th>\n",
       "      <td>中央电视台</td>\n",
       "    </tr>\n",
       "    <tr>\n",
       "      <th>5</th>\n",
       "      <td>中国</td>\n",
       "    </tr>\n",
       "    <tr>\n",
       "      <th>6</th>\n",
       "      <td>中央电视台</td>\n",
       "    </tr>\n",
       "    <tr>\n",
       "      <th>9</th>\n",
       "      <td>此刻</td>\n",
       "    </tr>\n",
       "  </tbody>\n",
       "</table>\n",
       "</div>"
      ],
      "text/plain": [
       "年份   2017\n",
       "1      中国\n",
       "2   中央电视台\n",
       "5      中国\n",
       "6   中央电视台\n",
       "9      此刻"
      ]
     },
     "execution_count": 33,
     "metadata": {},
     "output_type": "execute_result"
    }
   ],
   "source": [
    "#只保留两列作为数据框AnnaulWords\n",
    "df_AnnualWords=df_words[[\"年份\",\"词汇\"]].pivot(columns=\"年份\",values=\"词汇\")\n",
    "df_AnnualWords.head()"
   ]
  },
  {
   "cell_type": "code",
   "execution_count": 34,
   "id": "ffe554d0",
   "metadata": {},
   "outputs": [
    {
     "data": {
      "text/html": [
       "<div>\n",
       "<style scoped>\n",
       "    .dataframe tbody tr th:only-of-type {\n",
       "        vertical-align: middle;\n",
       "    }\n",
       "\n",
       "    .dataframe tbody tr th {\n",
       "        vertical-align: top;\n",
       "    }\n",
       "\n",
       "    .dataframe thead th {\n",
       "        text-align: right;\n",
       "    }\n",
       "</style>\n",
       "<table border=\"1\" class=\"dataframe\">\n",
       "  <thead>\n",
       "    <tr style=\"text-align: right;\">\n",
       "      <th>年份</th>\n",
       "      <th>2017</th>\n",
       "    </tr>\n",
       "  </thead>\n",
       "  <tbody>\n",
       "    <tr>\n",
       "      <th>1</th>\n",
       "      <td>中国</td>\n",
       "    </tr>\n",
       "    <tr>\n",
       "      <th>2</th>\n",
       "      <td>中央电视台</td>\n",
       "    </tr>\n",
       "    <tr>\n",
       "      <th>5</th>\n",
       "      <td>中国</td>\n",
       "    </tr>\n",
       "    <tr>\n",
       "      <th>6</th>\n",
       "      <td>中央电视台</td>\n",
       "    </tr>\n",
       "    <tr>\n",
       "      <th>9</th>\n",
       "      <td>此刻</td>\n",
       "    </tr>\n",
       "  </tbody>\n",
       "</table>\n",
       "</div>"
      ],
      "text/plain": [
       "年份   2017\n",
       "1      中国\n",
       "2   中央电视台\n",
       "5      中国\n",
       "6   中央电视台\n",
       "9      此刻"
      ]
     },
     "execution_count": 34,
     "metadata": {},
     "output_type": "execute_result"
    }
   ],
   "source": [
    "df_AnnualWords.fillna(0,inplace=True)\n",
    "\n",
    "df_AnnualWords.head()"
   ]
  },
  {
   "cell_type": "code",
   "execution_count": 35,
   "id": "d4aecc21",
   "metadata": {},
   "outputs": [
    {
     "data": {
      "text/html": [
       "<div>\n",
       "<style scoped>\n",
       "    .dataframe tbody tr th:only-of-type {\n",
       "        vertical-align: middle;\n",
       "    }\n",
       "\n",
       "    .dataframe tbody tr th {\n",
       "        vertical-align: top;\n",
       "    }\n",
       "\n",
       "    .dataframe thead th {\n",
       "        text-align: right;\n",
       "    }\n",
       "</style>\n",
       "<table border=\"1\" class=\"dataframe\">\n",
       "  <thead>\n",
       "    <tr style=\"text-align: right;\">\n",
       "      <th></th>\n",
       "      <th>2017</th>\n",
       "    </tr>\n",
       "  </thead>\n",
       "  <tbody>\n",
       "    <tr>\n",
       "      <th>1</th>\n",
       "      <td>我</td>\n",
       "    </tr>\n",
       "    <tr>\n",
       "      <th>2</th>\n",
       "      <td>春</td>\n",
       "    </tr>\n",
       "    <tr>\n",
       "      <th>3</th>\n",
       "      <td>这</td>\n",
       "    </tr>\n",
       "    <tr>\n",
       "      <th>4</th>\n",
       "      <td>们</td>\n",
       "    </tr>\n",
       "    <tr>\n",
       "      <th>5</th>\n",
       "      <td>年</td>\n",
       "    </tr>\n",
       "    <tr>\n",
       "      <th>6</th>\n",
       "      <td>福</td>\n",
       "    </tr>\n",
       "    <tr>\n",
       "      <th>7</th>\n",
       "      <td>中国</td>\n",
       "    </tr>\n",
       "    <tr>\n",
       "      <th>8</th>\n",
       "      <td>好</td>\n",
       "    </tr>\n",
       "    <tr>\n",
       "      <th>9</th>\n",
       "      <td>大家</td>\n",
       "    </tr>\n",
       "    <tr>\n",
       "      <th>10</th>\n",
       "      <td>要</td>\n",
       "    </tr>\n",
       "    <tr>\n",
       "      <th>11</th>\n",
       "      <td>来</td>\n",
       "    </tr>\n",
       "    <tr>\n",
       "      <th>12</th>\n",
       "      <td>到</td>\n",
       "    </tr>\n",
       "    <tr>\n",
       "      <th>13</th>\n",
       "      <td>朋友</td>\n",
       "    </tr>\n",
       "    <tr>\n",
       "      <th>14</th>\n",
       "      <td>位</td>\n",
       "    </tr>\n",
       "    <tr>\n",
       "      <th>15</th>\n",
       "      <td>晚</td>\n",
       "    </tr>\n",
       "    <tr>\n",
       "      <th>16</th>\n",
       "      <td>不</td>\n",
       "    </tr>\n",
       "    <tr>\n",
       "      <th>17</th>\n",
       "      <td>个</td>\n",
       "    </tr>\n",
       "    <tr>\n",
       "      <th>18</th>\n",
       "      <td>号</td>\n",
       "    </tr>\n",
       "    <tr>\n",
       "      <th>19</th>\n",
       "      <td>请</td>\n",
       "    </tr>\n",
       "    <tr>\n",
       "      <th>20</th>\n",
       "      <td>上</td>\n",
       "    </tr>\n",
       "  </tbody>\n",
       "</table>\n",
       "</div>"
      ],
      "text/plain": [
       "   2017\n",
       "1     我\n",
       "2     春\n",
       "3     这\n",
       "4     们\n",
       "5     年\n",
       "6     福\n",
       "7    中国\n",
       "8     好\n",
       "9    大家\n",
       "10    要\n",
       "11    来\n",
       "12    到\n",
       "13   朋友\n",
       "14    位\n",
       "15    晚\n",
       "16    不\n",
       "17    个\n",
       "18    号\n",
       "19    请\n",
       "20    上"
      ]
     },
     "execution_count": 35,
     "metadata": {},
     "output_type": "execute_result"
    }
   ],
   "source": [
    "df_AnnualTopWords=pd.DataFrame(columns=[2017])\n",
    "\n",
    "df_AnnualTopWords[2017]=df_AnnualWords[2017].value_counts().reset_index()[\"index\"]\n",
    "\n",
    "df_AnnualTopWords[1:].head(20)"
   ]
  },
  {
   "cell_type": "code",
   "execution_count": 36,
   "id": "84b83321",
   "metadata": {},
   "outputs": [],
   "source": [
    "#关键词分析"
   ]
  },
  {
   "cell_type": "code",
   "execution_count": 37,
   "id": "8eb6dcde",
   "metadata": {},
   "outputs": [
    {
     "data": {
      "text/html": [
       "<div>\n",
       "<style scoped>\n",
       "    .dataframe tbody tr th:only-of-type {\n",
       "        vertical-align: middle;\n",
       "    }\n",
       "\n",
       "    .dataframe tbody tr th {\n",
       "        vertical-align: top;\n",
       "    }\n",
       "\n",
       "    .dataframe thead th {\n",
       "        text-align: right;\n",
       "    }\n",
       "</style>\n",
       "<table border=\"1\" class=\"dataframe\">\n",
       "  <thead>\n",
       "    <tr style=\"text-align: right;\">\n",
       "      <th></th>\n",
       "      <th>2017</th>\n",
       "    </tr>\n",
       "  </thead>\n",
       "  <tbody>\n",
       "    <tr>\n",
       "      <th>0</th>\n",
       "      <td>@春晚</td>\n",
       "    </tr>\n",
       "    <tr>\n",
       "      <th>1</th>\n",
       "      <td>姜昆</td>\n",
       "    </tr>\n",
       "    <tr>\n",
       "      <th>2</th>\n",
       "      <td>杨利伟</td>\n",
       "    </tr>\n",
       "    <tr>\n",
       "      <th>3</th>\n",
       "      <td>中国</td>\n",
       "    </tr>\n",
       "    <tr>\n",
       "      <th>4</th>\n",
       "      <td>世界</td>\n",
       "    </tr>\n",
       "    <tr>\n",
       "      <th>5</th>\n",
       "      <td>人心</td>\n",
       "    </tr>\n",
       "    <tr>\n",
       "      <th>6</th>\n",
       "      <td>观众朋友们</td>\n",
       "    </tr>\n",
       "    <tr>\n",
       "      <th>7</th>\n",
       "      <td>央视</td>\n",
       "    </tr>\n",
       "    <tr>\n",
       "      <th>8</th>\n",
       "      <td>传祺</td>\n",
       "    </tr>\n",
       "    <tr>\n",
       "      <th>9</th>\n",
       "      <td>央视网</td>\n",
       "    </tr>\n",
       "  </tbody>\n",
       "</table>\n",
       "</div>"
      ],
      "text/plain": [
       "    2017\n",
       "0    @春晚\n",
       "1     姜昆\n",
       "2    杨利伟\n",
       "3     中国\n",
       "4     世界\n",
       "5     人心\n",
       "6  观众朋友们\n",
       "7     央视\n",
       "8     传祺\n",
       "9    央视网"
      ]
     },
     "execution_count": 37,
     "metadata": {},
     "output_type": "execute_result"
    }
   ],
   "source": [
    "df_annual_keywords=pd.DataFrame(columns=[2017])\n",
    "\n",
    "df_annual_keywords[2017]=pynlpir.get_key_words(' '.join(df_AnnualTopWords[2017].astype('str')))\n",
    "\n",
    "df_annual_keywords.head(10)"
   ]
  },
  {
   "cell_type": "code",
   "execution_count": 38,
   "id": "d46adb5e",
   "metadata": {},
   "outputs": [],
   "source": [
    "#生成词云"
   ]
  },
  {
   "cell_type": "code",
   "execution_count": 39,
   "id": "12287a47",
   "metadata": {},
   "outputs": [],
   "source": [
    "from wordcloud import WordCloud\n",
    "from imageio import imread\n",
    "\n",
    "font_wc=r'C:\\Windows\\Fonts\\msyhbd.ttc'"
   ]
  },
  {
   "cell_type": "code",
   "execution_count": 40,
   "id": "3aeff7e1",
   "metadata": {},
   "outputs": [
    {
     "data": {
      "text/plain": [
       "'中国 中央电视台 中国 中央电视台 此刻'"
      ]
     },
     "execution_count": 40,
     "metadata": {},
     "output_type": "execute_result"
    }
   ],
   "source": [
    "myText=' '.join(df_words.词汇)\n",
    "myText[:20]"
   ]
  },
  {
   "cell_type": "code",
   "execution_count": 41,
   "id": "46ebdfae",
   "metadata": {},
   "outputs": [],
   "source": [
    "#读入背景图片\n",
    "\n",
    "bg_pic=imread('host2.jpg')\n",
    "\n",
    "wc=WordCloud(font_path=font_wc,mask=bg_pic,max_words=500,max_font_size=200,\n",
    "                        background_color='white',colormap='Reds_r',scale=15.5)"
   ]
  },
  {
   "cell_type": "code",
   "execution_count": 42,
   "id": "e06683eb",
   "metadata": {},
   "outputs": [
    {
     "data": {
      "image/png": "[encoded data removed]",
      "text/plain": [
       "<Figure size 432x288 with 1 Axes>"
      ]
     },
     "metadata": {
      "needs_background": "light"
     },
     "output_type": "display_data"
    }
   ],
   "source": [
    "#生成词云----generate()\n",
    "wc.generate(myText)\n",
    "plt.imshow(wc)\n",
    "plt.axis('off')\n",
    "plt.show()"
   ]
  },
  {
   "cell_type": "code",
   "execution_count": 43,
   "id": "976d20df",
   "metadata": {},
   "outputs": [
    {
     "data": {
      "text/plain": [
       "<wordcloud.wordcloud.WordCloud at 0x278c1541100>"
      ]
     },
     "execution_count": 43,
     "metadata": {},
     "output_type": "execute_result"
    }
   ],
   "source": [
    "wc.to_file('chun.jpg')"
   ]
  },
  {
   "cell_type": "code",
   "execution_count": 44,
   "id": "a25f4e33",
   "metadata": {},
   "outputs": [],
   "source": [
    "pynlpir.close()"
   ]
  },
  {
   "cell_type": "code",
   "execution_count": null,
   "id": "0dbedd9d",
   "metadata": {},
   "outputs": [],
   "source": []
  },
  {
   "cell_type": "code",
   "execution_count": 45,
   "id": "219457fe",
   "metadata": {},
   "outputs": [],
   "source": [
    "#人脸识别与图像上识别"
   ]
  },
  {
   "cell_type": "code",
   "execution_count": 46,
   "id": "a68aa74e",
   "metadata": {},
   "outputs": [],
   "source": [
    "import cv2"
   ]
  },
  {
   "cell_type": "code",
   "execution_count": 47,
   "id": "40dcc6fc",
   "metadata": {},
   "outputs": [],
   "source": [
    "image=cv2.imread(\"test.jpg\")"
   ]
  },
  {
   "cell_type": "code",
   "execution_count": 48,
   "id": "f340b8c6",
   "metadata": {},
   "outputs": [],
   "source": [
    "#将RGB图像转换成灰度图"
   ]
  },
  {
   "cell_type": "code",
   "execution_count": 49,
   "id": "8be1372d",
   "metadata": {},
   "outputs": [
    {
     "data": {
      "text/plain": [
       "-1"
      ]
     },
     "execution_count": 49,
     "metadata": {},
     "output_type": "execute_result"
    }
   ],
   "source": [
    "gray=cv2.cvtColor(image,cv2.COLOR_BGR2GRAY)\n",
    "cv2.imshow(\"Showing gray image\",gray)\n",
    "cv2.waitKey(0)"
   ]
  },
  {
   "cell_type": "code",
   "execution_count": 50,
   "id": "54e8afaf",
   "metadata": {},
   "outputs": [],
   "source": [
    "#人脸识别与矩阵标识"
   ]
  },
  {
   "cell_type": "code",
   "execution_count": 51,
   "id": "19020ebe",
   "metadata": {},
   "outputs": [],
   "source": [
    "faceCascade=cv2.CascadeClassifier(cv2.data.haarcascades + \"haarcascade_frontalface_default.xml\")\n",
    "faces=faceCascade.detectMultiScale(gray,scaleFactor=1.1,minNeighbors=5,minSize=(30,30))\n",
    "for (x,y,w,h) in faces:\n",
    "    cv2.rectangle(image,(x,y),(x+w,y+h),(0,0,255),8)"
   ]
  },
  {
   "cell_type": "code",
   "execution_count": 52,
   "id": "7affe197",
   "metadata": {},
   "outputs": [
    {
     "data": {
      "text/plain": [
       "-1"
      ]
     },
     "execution_count": 52,
     "metadata": {},
     "output_type": "execute_result"
    }
   ],
   "source": [
    "cv2.imshow(\"Window Name\",image)\n",
    "cv2.waitKey(0)"
   ]
  },
  {
   "cell_type": "code",
   "execution_count": 53,
   "id": "5fdfa41a",
   "metadata": {},
   "outputs": [
    {
     "data": {
      "text/plain": [
       "True"
      ]
     },
     "execution_count": 53,
     "metadata": {},
     "output_type": "execute_result"
    }
   ],
   "source": [
    "cv2.imwrite(\"test_fr.png\",image)"
   ]
  },
  {
   "cell_type": "code",
   "execution_count": null,
   "id": "ff95f921",
   "metadata": {},
   "outputs": [],
   "source": []
  }
 ],
 "metadata": {
  "kernelspec": {
   "display_name": "Python 3 (ipykernel)",
   "language": "python",
   "name": "python3"
  },
  "language_info": {
   "codemirror_mode": {
    "name": "ipython",
    "version": 3
   },
   "file_extension": ".py",
   "mimetype": "text/x-python",
   "name": "python",
   "nbconvert_exporter": "python",
   "pygments_lexer": "ipython3",
   "version": "3.9.7"
  }
 },
 "nbformat": 4,
 "nbformat_minor": 5
}
